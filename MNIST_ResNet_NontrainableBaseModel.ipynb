{
 "cells": [
  {
   "cell_type": "code",
   "execution_count": 1,
   "id": "666df412-117c-49c0-a6e9-d1015acadb52",
   "metadata": {
    "tags": []
   },
   "outputs": [],
   "source": [
    "\n",
    "import os\n",
    "import matplotlib.pyplot as plt\n",
    "import numpy as np\n",
    "import time\n",
    "import random\n",
    "from tqdm import tqdm # for progress bar\n",
    "import seaborn as sns\n",
    "from sklearn.metrics import confusion_matrix\n",
    "\n",
    "# Libraries for TensorFlow\n",
    "import tensorflow as tf\n",
    "import matplotlib.pyplot as plt\n",
    "from tensorflow.keras import datasets, layers, models, losses, Model\n",
    "from keras.models import Sequential\n",
    "from tensorflow.keras.optimizers import Adam\n",
    "from keras import callbacks\n",
    "# from livelossplot.inputs.keras import PlotLossesCallback\n",
    "\n",
    "# Library for Transfer Learning\n",
    "from tensorflow.keras.applications import ResNet50\n",
    "from keras.applications.vgg16 import preprocess_input"
   ]
  },
  {
   "cell_type": "code",
   "execution_count": 2,
   "id": "a7c331c5-2d8c-422a-8344-af489b359923",
   "metadata": {
    "tags": []
   },
   "outputs": [
    {
     "name": "stderr",
     "output_type": "stream",
     "text": [
      "2023-05-08 22:35:44.365410: I tensorflow/core/platform/cpu_feature_guard.cc:151] This TensorFlow binary is optimized with oneAPI Deep Neural Network Library (oneDNN) to use the following CPU instructions in performance-critical operations:  AVX2 AVX512F FMA\n",
      "To enable them in other operations, rebuild TensorFlow with the appropriate compiler flags.\n",
      "2023-05-08 22:35:45.171377: I tensorflow/core/common_runtime/gpu/gpu_device.cc:1525] Created device /job:localhost/replica:0/task:0/device:GPU:0 with 2631 MB memory:  -> device: 0, name: NVIDIA A40, pci bus id: 0000:e3:00.0, compute capability: 8.6\n"
     ]
    }
   ],
   "source": [
    "# Load data\n",
    "(x_train, y_train), (x_test, y_test)=tf.keras.datasets.mnist.load_data()\n",
    "x_train = tf.pad(x_train, [[0, 0], [2,2], [2,2]])/255\n",
    "x_test = tf.pad(x_test, [[0, 0], [2,2], [2,2]])/255\n",
    "x_train = tf.expand_dims(x_train, axis=3, name=None)\n",
    "x_test = tf.expand_dims(x_test, axis=3, name=None)\n",
    "x_train = tf.repeat(x_train, 3, axis=3)\n",
    "x_test = tf.repeat(x_test, 3, axis=3)\n",
    "\n",
    "# Split validate set, training set, and test set\n",
    "x_val = x_train[-2000:,:,:]\n",
    "y_val = y_train[-2000:]\n",
    "x_train = x_train[:-2000,:,:]\n",
    "y_train = y_train[:-2000]"
   ]
  },
  {
   "cell_type": "code",
   "execution_count": 3,
   "id": "9878afe2-9ce8-4e38-8068-67e4e05bb376",
   "metadata": {
    "tags": []
   },
   "outputs": [],
   "source": [
    "# Incorporating reduced learning and early stopping for callback\n",
    "reduce_learning = callbacks.ReduceLROnPlateau(\n",
    "    monitor='val_loss',\n",
    "    factor=0.2,\n",
    "    patience=2,\n",
    "    verbose=1,\n",
    "    mode='auto',\n",
    "    min_delta=0.0001,\n",
    "    cooldown=2,\n",
    "    min_lr=0)\n",
    "\n",
    "eary_stopping = callbacks.EarlyStopping(\n",
    "    monitor='val_loss',\n",
    "    min_delta=0,\n",
    "    patience=7,\n",
    "    verbose=1,\n",
    "    mode='auto')\n",
    "\n",
    "# ModelCheckpoint callback - save best weights\n",
    "tl_checkpoint_1 = callbacks.ModelCheckpoint(filepath='model/resnet_mnist.weights.best.hdf5',\n",
    "                                  save_best_only=True,\n",
    "                                  verbose=1)\n",
    "\n",
    "callbacks_def = [reduce_learning, eary_stopping, tl_checkpoint_1]"
   ]
  },
  {
   "cell_type": "code",
   "execution_count": 4,
   "id": "7f166a16-87d4-46bb-bdff-8def269dd980",
   "metadata": {
    "tags": []
   },
   "outputs": [
    {
     "name": "stdout",
     "output_type": "stream",
     "text": [
      "Model: \"sequential\"\n",
      "_________________________________________________________________\n",
      " Layer (type)                Output Shape              Param #   \n",
      "=================================================================\n",
      " resnet50 (Functional)       (None, 1, 1, 2048)        23587712  \n",
      "                                                                 \n",
      " global_average_pooling2d (G  (None, 2048)             0         \n",
      " lobalAveragePooling2D)                                          \n",
      "                                                                 \n",
      " dense (Dense)               (None, 1024)              2098176   \n",
      "                                                                 \n",
      " dropout (Dropout)           (None, 1024)              0         \n",
      "                                                                 \n",
      " dense_1 (Dense)             (None, 512)               524800    \n",
      "                                                                 \n",
      " dropout_1 (Dropout)         (None, 512)               0         \n",
      "                                                                 \n",
      " dense_2 (Dense)             (None, 10)                5130      \n",
      "                                                                 \n",
      "=================================================================\n",
      "Total params: 26,215,818\n",
      "Trainable params: 2,628,106\n",
      "Non-trainable params: 23,587,712\n",
      "_________________________________________________________________\n"
     ]
    }
   ],
   "source": [
    "# Using pooling='average' in ResNet50()  => ACCURACY: 0.11 - Not improving \n",
    "head_model = Sequential()\n",
    "head_model.add(ResNet50(include_top=False, weights='imagenet', input_shape = (32,32,3)))\n",
    "for layer in head_model.layers:\n",
    "  layer.trainable = False\n",
    "\n",
    "head_model.add(layers.GlobalAveragePooling2D())\n",
    "head_model.add(layers.Dense(1024, activation='relu'))\n",
    "head_model.add(layers.Dropout(0.1))\n",
    "head_model.add(layers.Dense(512, activation='relu'))\n",
    "head_model.add(layers.Dropout(0.1))\n",
    "head_model.add(layers.Dense(10, activation='softmax'))\n",
    "head_model.compile(optimizer='adam', loss=losses.sparse_categorical_crossentropy, metrics=['accuracy'])\n",
    "head_model.summary()"
   ]
  },
  {
   "cell_type": "code",
   "execution_count": 5,
   "id": "91cefc72-c342-41b6-9914-a652ef7d69a6",
   "metadata": {},
   "outputs": [
    {
     "name": "stdout",
     "output_type": "stream",
     "text": [
      "Training started at %s Mon May  8 22:35:47 2023\n",
      "Epoch 1/40\n"
     ]
    },
    {
     "name": "stderr",
     "output_type": "stream",
     "text": [
      "2023-05-08 22:35:53.928774: I tensorflow/stream_executor/cuda/cuda_dnn.cc:368] Loaded cuDNN version 8400\n",
      "2023-05-08 22:35:56.395269: I tensorflow/core/platform/default/subprocess.cc:304] Start cannot spawn child process: No such file or directory\n",
      "2023-05-08 22:35:56.397271: I tensorflow/core/platform/default/subprocess.cc:304] Start cannot spawn child process: No such file or directory\n",
      "2023-05-08 22:35:56.397364: W tensorflow/stream_executor/gpu/asm_compiler.cc:80] Couldn't get ptxas version string: INTERNAL: Couldn't invoke ptxas --version\n",
      "2023-05-08 22:35:56.399419: I tensorflow/core/platform/default/subprocess.cc:304] Start cannot spawn child process: No such file or directory\n",
      "2023-05-08 22:35:56.399623: W tensorflow/stream_executor/gpu/redzone_allocator.cc:314] INTERNAL: Failed to launch ptxas\n",
      "Relying on driver to perform ptx compilation. \n",
      "Modify $PATH to customize ptxas location.\n",
      "This message will be only logged once.\n"
     ]
    },
    {
     "name": "stdout",
     "output_type": "stream",
     "text": [
      "  7/907 [..............................] - ETA: 17s - loss: 3.4891 - accuracy: 0.1451   "
     ]
    },
    {
     "name": "stderr",
     "output_type": "stream",
     "text": [
      "2023-05-08 22:35:57.122779: W tensorflow/core/common_runtime/bfc_allocator.cc:275] Allocator (GPU_0_bfc) ran out of memory trying to allocate 1.34GiB with freed_by_count=0. The caller indicates that this is not a failure, but may mean that there could be performance gains if more memory were available.\n",
      "2023-05-08 22:35:57.122857: W tensorflow/core/common_runtime/bfc_allocator.cc:275] Allocator (GPU_0_bfc) ran out of memory trying to allocate 1.34GiB with freed_by_count=0. The caller indicates that this is not a failure, but may mean that there could be performance gains if more memory were available.\n",
      "2023-05-08 22:35:57.143459: W tensorflow/core/common_runtime/bfc_allocator.cc:275] Allocator (GPU_0_bfc) ran out of memory trying to allocate 2.34GiB with freed_by_count=0. The caller indicates that this is not a failure, but may mean that there could be performance gains if more memory were available.\n",
      "2023-05-08 22:35:57.143552: W tensorflow/core/common_runtime/bfc_allocator.cc:275] Allocator (GPU_0_bfc) ran out of memory trying to allocate 2.34GiB with freed_by_count=0. The caller indicates that this is not a failure, but may mean that there could be performance gains if more memory were available.\n",
      "2023-05-08 22:35:57.168179: W tensorflow/core/common_runtime/bfc_allocator.cc:275] Allocator (GPU_0_bfc) ran out of memory trying to allocate 2.55GiB with freed_by_count=0. The caller indicates that this is not a failure, but may mean that there could be performance gains if more memory were available.\n",
      "2023-05-08 22:35:57.168280: W tensorflow/core/common_runtime/bfc_allocator.cc:275] Allocator (GPU_0_bfc) ran out of memory trying to allocate 2.55GiB with freed_by_count=0. The caller indicates that this is not a failure, but may mean that there could be performance gains if more memory were available.\n",
      "2023-05-08 22:35:57.178837: I tensorflow/stream_executor/cuda/cuda_blas.cc:1786] TensorFloat-32 will be used for the matrix multiplication. This will only be logged once.\n"
     ]
    },
    {
     "name": "stdout",
     "output_type": "stream",
     "text": [
      "907/907 [==============================] - ETA: 0s - loss: 0.6190 - accuracy: 0.7949"
     ]
    },
    {
     "name": "stderr",
     "output_type": "stream",
     "text": [
      "2023-05-08 22:36:12.332450: W tensorflow/core/common_runtime/bfc_allocator.cc:275] Allocator (GPU_0_bfc) ran out of memory trying to allocate 2.29GiB with freed_by_count=0. The caller indicates that this is not a failure, but may mean that there could be performance gains if more memory were available.\n",
      "2023-05-08 22:36:12.332553: W tensorflow/core/common_runtime/bfc_allocator.cc:275] Allocator (GPU_0_bfc) ran out of memory trying to allocate 2.29GiB with freed_by_count=0. The caller indicates that this is not a failure, but may mean that there could be performance gains if more memory were available.\n",
      "2023-05-08 22:36:12.365855: W tensorflow/core/common_runtime/bfc_allocator.cc:275] Allocator (GPU_0_bfc) ran out of memory trying to allocate 2.34GiB with freed_by_count=0. The caller indicates that this is not a failure, but may mean that there could be performance gains if more memory were available.\n",
      "2023-05-08 22:36:12.365967: W tensorflow/core/common_runtime/bfc_allocator.cc:275] Allocator (GPU_0_bfc) ran out of memory trying to allocate 2.34GiB with freed_by_count=0. The caller indicates that this is not a failure, but may mean that there could be performance gains if more memory were available.\n"
     ]
    },
    {
     "name": "stdout",
     "output_type": "stream",
     "text": [
      "\n",
      "Epoch 1: val_loss improved from inf to 0.30819, saving model to model/resnet_mnist.weights.best.hdf5\n",
      "907/907 [==============================] - 26s 19ms/step - loss: 0.6190 - accuracy: 0.7949 - val_loss: 0.3082 - val_accuracy: 0.9075 - lr: 0.0010\n",
      "Epoch 2/40\n",
      "906/907 [============================>.] - ETA: 0s - loss: 0.3606 - accuracy: 0.8806\n",
      "Epoch 2: val_loss improved from 0.30819 to 0.30221, saving model to model/resnet_mnist.weights.best.hdf5\n",
      "907/907 [==============================] - 16s 17ms/step - loss: 0.3606 - accuracy: 0.8806 - val_loss: 0.3022 - val_accuracy: 0.9100 - lr: 0.0010\n",
      "Epoch 3/40\n",
      "904/907 [============================>.] - ETA: 0s - loss: 0.3231 - accuracy: 0.8940\n",
      "Epoch 3: val_loss improved from 0.30221 to 0.19804, saving model to model/resnet_mnist.weights.best.hdf5\n",
      "907/907 [==============================] - 16s 18ms/step - loss: 0.3232 - accuracy: 0.8940 - val_loss: 0.1980 - val_accuracy: 0.9415 - lr: 0.0010\n",
      "Epoch 4/40\n",
      "904/907 [============================>.] - ETA: 0s - loss: 0.2974 - accuracy: 0.9029\n",
      "Epoch 4: val_loss did not improve from 0.19804\n",
      "907/907 [==============================] - 15s 16ms/step - loss: 0.2973 - accuracy: 0.9029 - val_loss: 0.2274 - val_accuracy: 0.9225 - lr: 0.0010\n",
      "Epoch 5/40\n",
      "906/907 [============================>.] - ETA: 0s - loss: 0.2712 - accuracy: 0.9108\n",
      "Epoch 5: val_loss improved from 0.19804 to 0.18837, saving model to model/resnet_mnist.weights.best.hdf5\n",
      "907/907 [==============================] - 15s 17ms/step - loss: 0.2713 - accuracy: 0.9107 - val_loss: 0.1884 - val_accuracy: 0.9385 - lr: 0.0010\n",
      "Epoch 6/40\n",
      "907/907 [==============================] - ETA: 0s - loss: 0.2658 - accuracy: 0.9135\n",
      "Epoch 6: val_loss improved from 0.18837 to 0.15856, saving model to model/resnet_mnist.weights.best.hdf5\n",
      "907/907 [==============================] - 15s 17ms/step - loss: 0.2658 - accuracy: 0.9135 - val_loss: 0.1586 - val_accuracy: 0.9505 - lr: 0.0010\n",
      "Epoch 7/40\n",
      "904/907 [============================>.] - ETA: 0s - loss: 0.2455 - accuracy: 0.9195\n",
      "Epoch 7: val_loss improved from 0.15856 to 0.14156, saving model to model/resnet_mnist.weights.best.hdf5\n",
      "907/907 [==============================] - 15s 17ms/step - loss: 0.2455 - accuracy: 0.9195 - val_loss: 0.1416 - val_accuracy: 0.9570 - lr: 0.0010\n",
      "Epoch 8/40\n",
      "905/907 [============================>.] - ETA: 0s - loss: 0.2377 - accuracy: 0.9220\n",
      "Epoch 8: val_loss did not improve from 0.14156\n",
      "907/907 [==============================] - 15s 16ms/step - loss: 0.2379 - accuracy: 0.9218 - val_loss: 0.1451 - val_accuracy: 0.9565 - lr: 0.0010\n",
      "Epoch 9/40\n",
      "904/907 [============================>.] - ETA: 0s - loss: 0.2361 - accuracy: 0.9223\n",
      "Epoch 9: ReduceLROnPlateau reducing learning rate to 0.00020000000949949026.\n",
      "\n",
      "Epoch 9: val_loss did not improve from 0.14156\n",
      "907/907 [==============================] - 15s 16ms/step - loss: 0.2361 - accuracy: 0.9223 - val_loss: 0.1735 - val_accuracy: 0.9440 - lr: 0.0010\n",
      "Epoch 10/40\n",
      "904/907 [============================>.] - ETA: 0s - loss: 0.1647 - accuracy: 0.9461\n",
      "Epoch 10: val_loss improved from 0.14156 to 0.12091, saving model to model/resnet_mnist.weights.best.hdf5\n",
      "907/907 [==============================] - 15s 17ms/step - loss: 0.1647 - accuracy: 0.9461 - val_loss: 0.1209 - val_accuracy: 0.9620 - lr: 2.0000e-04\n",
      "Epoch 11/40\n",
      "906/907 [============================>.] - ETA: 0s - loss: 0.1563 - accuracy: 0.9487\n",
      "Epoch 11: val_loss improved from 0.12091 to 0.10792, saving model to model/resnet_mnist.weights.best.hdf5\n",
      "907/907 [==============================] - 16s 17ms/step - loss: 0.1563 - accuracy: 0.9487 - val_loss: 0.1079 - val_accuracy: 0.9650 - lr: 2.0000e-04\n",
      "Epoch 12/40\n",
      "905/907 [============================>.] - ETA: 0s - loss: 0.1528 - accuracy: 0.9497\n",
      "Epoch 12: val_loss improved from 0.10792 to 0.09973, saving model to model/resnet_mnist.weights.best.hdf5\n",
      "907/907 [==============================] - 15s 17ms/step - loss: 0.1528 - accuracy: 0.9497 - val_loss: 0.0997 - val_accuracy: 0.9675 - lr: 2.0000e-04\n",
      "Epoch 13/40\n",
      "906/907 [============================>.] - ETA: 0s - loss: 0.1484 - accuracy: 0.9513\n",
      "Epoch 13: val_loss did not improve from 0.09973\n",
      "907/907 [==============================] - 15s 17ms/step - loss: 0.1484 - accuracy: 0.9512 - val_loss: 0.1043 - val_accuracy: 0.9670 - lr: 2.0000e-04\n",
      "Epoch 14/40\n",
      "907/907 [==============================] - ETA: 0s - loss: 0.1446 - accuracy: 0.9521\n",
      "Epoch 14: val_loss improved from 0.09973 to 0.09223, saving model to model/resnet_mnist.weights.best.hdf5\n",
      "907/907 [==============================] - 15s 17ms/step - loss: 0.1446 - accuracy: 0.9521 - val_loss: 0.0922 - val_accuracy: 0.9695 - lr: 2.0000e-04\n",
      "Epoch 15/40\n",
      "905/907 [============================>.] - ETA: 0s - loss: 0.1420 - accuracy: 0.9542\n",
      "Epoch 15: val_loss did not improve from 0.09223\n",
      "907/907 [==============================] - 15s 16ms/step - loss: 0.1421 - accuracy: 0.9541 - val_loss: 0.1040 - val_accuracy: 0.9695 - lr: 2.0000e-04\n",
      "Epoch 16/40\n",
      "904/907 [============================>.] - ETA: 0s - loss: 0.1398 - accuracy: 0.9540\n",
      "Epoch 16: ReduceLROnPlateau reducing learning rate to 4.0000001899898055e-05.\n",
      "\n",
      "Epoch 16: val_loss did not improve from 0.09223\n",
      "907/907 [==============================] - 15s 16ms/step - loss: 0.1397 - accuracy: 0.9541 - val_loss: 0.0930 - val_accuracy: 0.9730 - lr: 2.0000e-04\n",
      "Epoch 17/40\n",
      "905/907 [============================>.] - ETA: 0s - loss: 0.1218 - accuracy: 0.9603\n",
      "Epoch 17: val_loss improved from 0.09223 to 0.08590, saving model to model/resnet_mnist.weights.best.hdf5\n",
      "907/907 [==============================] - 15s 17ms/step - loss: 0.1219 - accuracy: 0.9602 - val_loss: 0.0859 - val_accuracy: 0.9725 - lr: 4.0000e-05\n",
      "Epoch 18/40\n",
      "904/907 [============================>.] - ETA: 0s - loss: 0.1213 - accuracy: 0.9602\n",
      "Epoch 18: val_loss did not improve from 0.08590\n",
      "907/907 [==============================] - 15s 16ms/step - loss: 0.1213 - accuracy: 0.9602 - val_loss: 0.0870 - val_accuracy: 0.9725 - lr: 4.0000e-05\n",
      "Epoch 19/40\n",
      "905/907 [============================>.] - ETA: 0s - loss: 0.1198 - accuracy: 0.9610\n",
      "Epoch 19: val_loss improved from 0.08590 to 0.08464, saving model to model/resnet_mnist.weights.best.hdf5\n",
      "907/907 [==============================] - 15s 17ms/step - loss: 0.1199 - accuracy: 0.9609 - val_loss: 0.0846 - val_accuracy: 0.9710 - lr: 4.0000e-05\n",
      "Epoch 20/40\n",
      "907/907 [==============================] - ETA: 0s - loss: 0.1186 - accuracy: 0.9612\n",
      "Epoch 20: val_loss improved from 0.08464 to 0.08421, saving model to model/resnet_mnist.weights.best.hdf5\n",
      "907/907 [==============================] - 15s 17ms/step - loss: 0.1186 - accuracy: 0.9612 - val_loss: 0.0842 - val_accuracy: 0.9720 - lr: 4.0000e-05\n",
      "Epoch 21/40\n",
      "907/907 [==============================] - ETA: 0s - loss: 0.1194 - accuracy: 0.9611\n",
      "Epoch 21: val_loss did not improve from 0.08421\n",
      "907/907 [==============================] - 15s 17ms/step - loss: 0.1194 - accuracy: 0.9611 - val_loss: 0.0852 - val_accuracy: 0.9715 - lr: 4.0000e-05\n",
      "Epoch 22/40\n",
      "906/907 [============================>.] - ETA: 0s - loss: 0.1156 - accuracy: 0.9623\n",
      "Epoch 22: ReduceLROnPlateau reducing learning rate to 8.000000525498762e-06.\n",
      "\n",
      "Epoch 22: val_loss did not improve from 0.08421\n",
      "907/907 [==============================] - 15s 16ms/step - loss: 0.1156 - accuracy: 0.9623 - val_loss: 0.0850 - val_accuracy: 0.9715 - lr: 4.0000e-05\n",
      "Epoch 23/40\n",
      "905/907 [============================>.] - ETA: 0s - loss: 0.1127 - accuracy: 0.9633\n",
      "Epoch 23: val_loss did not improve from 0.08421\n",
      "907/907 [==============================] - 15s 16ms/step - loss: 0.1126 - accuracy: 0.9633 - val_loss: 0.0854 - val_accuracy: 0.9710 - lr: 8.0000e-06\n",
      "Epoch 24/40\n",
      "904/907 [============================>.] - ETA: 0s - loss: 0.1144 - accuracy: 0.9628\n",
      "Epoch 24: val_loss did not improve from 0.08421\n",
      "907/907 [==============================] - 14s 16ms/step - loss: 0.1143 - accuracy: 0.9629 - val_loss: 0.0843 - val_accuracy: 0.9725 - lr: 8.0000e-06\n",
      "Epoch 25/40\n",
      "905/907 [============================>.] - ETA: 0s - loss: 0.1122 - accuracy: 0.9636\n",
      "Epoch 25: val_loss improved from 0.08421 to 0.08361, saving model to model/resnet_mnist.weights.best.hdf5\n",
      "907/907 [==============================] - 15s 17ms/step - loss: 0.1122 - accuracy: 0.9636 - val_loss: 0.0836 - val_accuracy: 0.9730 - lr: 8.0000e-06\n",
      "Epoch 26/40\n",
      "904/907 [============================>.] - ETA: 0s - loss: 0.1134 - accuracy: 0.9633\n",
      "Epoch 26: val_loss did not improve from 0.08361\n",
      "907/907 [==============================] - 15s 16ms/step - loss: 0.1133 - accuracy: 0.9633 - val_loss: 0.0837 - val_accuracy: 0.9735 - lr: 8.0000e-06\n",
      "Epoch 27/40\n",
      "905/907 [============================>.] - ETA: 0s - loss: 0.1123 - accuracy: 0.9633\n",
      "Epoch 27: ReduceLROnPlateau reducing learning rate to 1.6000001778593287e-06.\n",
      "\n",
      "Epoch 27: val_loss did not improve from 0.08361\n",
      "907/907 [==============================] - 14s 16ms/step - loss: 0.1123 - accuracy: 0.9633 - val_loss: 0.0836 - val_accuracy: 0.9730 - lr: 8.0000e-06\n",
      "Epoch 28/40\n",
      "906/907 [============================>.] - ETA: 0s - loss: 0.1109 - accuracy: 0.9641\n",
      "Epoch 28: val_loss improved from 0.08361 to 0.08338, saving model to model/resnet_mnist.weights.best.hdf5\n",
      "907/907 [==============================] - 15s 17ms/step - loss: 0.1110 - accuracy: 0.9641 - val_loss: 0.0834 - val_accuracy: 0.9725 - lr: 1.6000e-06\n",
      "Epoch 29/40\n",
      "905/907 [============================>.] - ETA: 0s - loss: 0.1115 - accuracy: 0.9641\n",
      "Epoch 29: val_loss improved from 0.08338 to 0.08331, saving model to model/resnet_mnist.weights.best.hdf5\n",
      "907/907 [==============================] - 15s 17ms/step - loss: 0.1114 - accuracy: 0.9641 - val_loss: 0.0833 - val_accuracy: 0.9720 - lr: 1.6000e-06\n",
      "Epoch 30/40\n",
      "905/907 [============================>.] - ETA: 0s - loss: 0.1094 - accuracy: 0.9645\n",
      "Epoch 30: ReduceLROnPlateau reducing learning rate to 3.200000264769187e-07.\n",
      "\n",
      "Epoch 30: val_loss did not improve from 0.08331\n",
      "907/907 [==============================] - 15s 16ms/step - loss: 0.1096 - accuracy: 0.9645 - val_loss: 0.0836 - val_accuracy: 0.9720 - lr: 1.6000e-06\n",
      "Epoch 31/40\n",
      "906/907 [============================>.] - ETA: 0s - loss: 0.1111 - accuracy: 0.9631\n",
      "Epoch 31: val_loss did not improve from 0.08331\n",
      "907/907 [==============================] - 14s 16ms/step - loss: 0.1110 - accuracy: 0.9631 - val_loss: 0.0835 - val_accuracy: 0.9720 - lr: 3.2000e-07\n",
      "Epoch 32/40\n",
      "906/907 [============================>.] - ETA: 0s - loss: 0.1100 - accuracy: 0.9640\n",
      "Epoch 32: val_loss did not improve from 0.08331\n",
      "907/907 [==============================] - 15s 16ms/step - loss: 0.1100 - accuracy: 0.9641 - val_loss: 0.0835 - val_accuracy: 0.9720 - lr: 3.2000e-07\n",
      "Epoch 33/40\n",
      "907/907 [==============================] - ETA: 0s - loss: 0.1123 - accuracy: 0.9634\n",
      "Epoch 33: ReduceLROnPlateau reducing learning rate to 6.400000529538374e-08.\n",
      "\n",
      "Epoch 33: val_loss did not improve from 0.08331\n",
      "907/907 [==============================] - 15s 16ms/step - loss: 0.1123 - accuracy: 0.9634 - val_loss: 0.0835 - val_accuracy: 0.9715 - lr: 3.2000e-07\n",
      "Epoch 34/40\n",
      "905/907 [============================>.] - ETA: 0s - loss: 0.1107 - accuracy: 0.9636\n",
      "Epoch 34: val_loss did not improve from 0.08331\n",
      "907/907 [==============================] - 15s 16ms/step - loss: 0.1106 - accuracy: 0.9636 - val_loss: 0.0835 - val_accuracy: 0.9715 - lr: 6.4000e-08\n",
      "Epoch 35/40\n",
      "907/907 [==============================] - ETA: 0s - loss: 0.1096 - accuracy: 0.9643\n",
      "Epoch 35: val_loss did not improve from 0.08331\n",
      "907/907 [==============================] - 15s 16ms/step - loss: 0.1096 - accuracy: 0.9643 - val_loss: 0.0835 - val_accuracy: 0.9715 - lr: 6.4000e-08\n",
      "Epoch 36/40\n",
      "906/907 [============================>.] - ETA: 0s - loss: 0.1120 - accuracy: 0.9637\n",
      "Epoch 36: ReduceLROnPlateau reducing learning rate to 1.2800001059076749e-08.\n",
      "\n",
      "Epoch 36: val_loss did not improve from 0.08331\n",
      "907/907 [==============================] - 15s 17ms/step - loss: 0.1120 - accuracy: 0.9637 - val_loss: 0.0835 - val_accuracy: 0.9715 - lr: 6.4000e-08\n",
      "Epoch 36: early stopping\n",
      "Training ended at %s Mon May  8 22:44:59 2023\n",
      "Training duration: %i seconds 551\n"
     ]
    }
   ],
   "source": [
    "# Record start time\n",
    "start_time = time.time()\n",
    "print('Training started at %s', time.ctime(start_time))\n",
    "\n",
    "# Train model\n",
    "history = head_model.fit(x_train, y_train, batch_size=64, epochs=40, validation_data=(x_val, y_val), callbacks=callbacks_def)\n",
    "# Record end time\n",
    "end_time = time.time()\n",
    "print('Training ended at %s', time.ctime(end_time))\n",
    "\n",
    "# Calculate duration of training\n",
    "duration = end_time - start_time\n",
    "print('Training duration: %i seconds', int(duration))"
   ]
  },
  {
   "cell_type": "code",
   "execution_count": 6,
   "id": "edd0648f-5790-441c-8695-b4f10cf8a0b2",
   "metadata": {
    "tags": []
   },
   "outputs": [
    {
     "data": {
      "text/plain": [
       "<matplotlib.legend.Legend at 0x7fa5202747f0>"
      ]
     },
     "execution_count": 6,
     "metadata": {},
     "output_type": "execute_result"
    },
    {
     "data": {
      "image/png": "[encoded data removed]",
      "text/plain": [
       "<Figure size 1080x1080 with 2 Axes>"
      ]
     },
     "metadata": {
      "needs_background": "light"
     },
     "output_type": "display_data"
    }
   ],
   "source": [
    "fig, axs = plt.subplots(2, 1, figsize=(15,15))\n",
    "axs[0].plot(history.history['loss'])\n",
    "axs[0].plot(history.history['val_loss'])\n",
    "axs[0].title.set_text('Training Loss vs Validation Loss')\n",
    "axs[0].set_xlabel('Epochs')\n",
    "axs[0].set_ylabel('Loss')\n",
    "axs[0].legend(['Train','Val'])\n",
    "axs[1].plot(history.history['accuracy'])\n",
    "axs[1].plot(history.history['val_accuracy'])\n",
    "axs[1].title.set_text('Training Accuracy vs Validation Accuracy')\n",
    "axs[1].set_xlabel('Epochs')\n",
    "axs[1].set_ylabel('Accuracy')\n",
    "axs[1].legend(['Train', 'Val'])"
   ]
  },
  {
   "cell_type": "code",
   "execution_count": 7,
   "id": "b7942615-2380-413b-9137-41f86f616bc9",
   "metadata": {
    "tags": []
   },
   "outputs": [
    {
     "name": "stdout",
     "output_type": "stream",
     "text": [
      "313/313 [==============================] - 5s 15ms/step - loss: 0.1185 - accuracy: 0.9630\n"
     ]
    },
    {
     "data": {
      "text/plain": [
       "[0.1185326874256134, 0.9629999995231628]"
      ]
     },
     "execution_count": 7,
     "metadata": {},
     "output_type": "execute_result"
    }
   ],
   "source": [
    "head_model.evaluate(x_test, y_test)"
   ]
  },
  {
   "cell_type": "code",
   "execution_count": 8,
   "id": "1b950e3e-010b-4311-8b7a-e85266b30cc3",
   "metadata": {
    "tags": []
   },
   "outputs": [
    {
     "name": "stderr",
     "output_type": "stream",
     "text": [
      "2023-05-08 22:45:14.743803: W tensorflow/python/util/util.cc:368] Sets are not currently considered sequences, but this may change in the future, so consider avoiding using them.\n"
     ]
    },
    {
     "name": "stdout",
     "output_type": "stream",
     "text": [
      "INFO:tensorflow:Assets written to: model/resnet_mnist/assets\n"
     ]
    }
   ],
   "source": [
    "models.save_model(head_model, 'model/resnet_mnist')"
   ]
  }
 ],
 "metadata": {
  "kernelspec": {
   "display_name": "Python 3 (ipykernel)",
   "language": "python",
   "name": "python3"
  },
  "language_info": {
   "codemirror_mode": {
    "name": "ipython",
    "version": 3
   },
   "file_extension": ".py",
   "mimetype": "text/x-python",
   "name": "python",
   "nbconvert_exporter": "python",
   "pygments_lexer": "ipython3",
   "version": "3.10.5"
  },
  "toc-autonumbering": true,
  "toc-showcode": true,
  "toc-showmarkdowntxt": true,
  "toc-showtags": false
 },
 "nbformat": 4,
 "nbformat_minor": 5
}
