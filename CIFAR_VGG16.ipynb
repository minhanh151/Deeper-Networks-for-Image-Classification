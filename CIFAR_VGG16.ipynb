{
 "cells": [
  {
   "cell_type": "code",
   "execution_count": 1,
   "id": "28a90d6a-56d6-45d7-b7e3-2077e2d1420e",
   "metadata": {},
   "outputs": [],
   "source": [
    "import numpy as np # linear algebra\n",
    "import pandas as pd # data processing, CSV file I/O (e.g. pd.read_csv)\n",
    "import numpy as np\n",
    "import time\n",
    "import matplotlib.pyplot as plt\n",
    "from tensorflow.keras.applications.vgg16 import VGG16\n",
    "import tensorflow.keras as k\n",
    "from tensorflow.keras.models import Sequential\n",
    "from tensorflow.keras.layers import Dense, Flatten, Dropout\n",
    "from keras.utils.np_utils import to_categorical\n",
    "from tensorflow.keras import optimizers\n",
    "from tensorflow.keras.callbacks import ModelCheckpoint, EarlyStopping, LearningRateScheduler\n",
    "from tensorflow.keras.preprocessing.image import ImageDataGenerator\n",
    "from sklearn.metrics import accuracy_score\n",
    "from tensorflow.keras.layers import Dense, Flatten, Dropout\n",
    "from tensorflow.keras.layers import UpSampling2D\n"
   ]
  },
  {
   "cell_type": "code",
   "execution_count": 2,
   "id": "ce0e3ca6-e678-46b2-aa36-ac863795b8d9",
   "metadata": {},
   "outputs": [
    {
     "name": "stderr",
     "output_type": "stream",
     "text": [
      "2023-05-09 20:36:13.071433: I tensorflow/core/platform/cpu_feature_guard.cc:151] This TensorFlow binary is optimized with oneAPI Deep Neural Network Library (oneDNN) to use the following CPU instructions in performance-critical operations:  AVX2 AVX512F FMA\n",
      "To enable them in other operations, rebuild TensorFlow with the appropriate compiler flags.\n",
      "2023-05-09 20:36:13.797042: I tensorflow/core/common_runtime/gpu/gpu_device.cc:1525] Created device /job:localhost/replica:0/task:0/device:GPU:0 with 2631 MB memory:  -> device: 0, name: NVIDIA A40, pci bus id: 0000:e3:00.0, compute capability: 8.6\n"
     ]
    },
    {
     "name": "stdout",
     "output_type": "stream",
     "text": [
      "Model: \"sequential\"\n",
      "_________________________________________________________________\n",
      " Layer (type)                Output Shape              Param #   \n",
      "=================================================================\n",
      " up_sampling2d (UpSampling2D  (None, 64, 64, 3)        0         \n",
      " )                                                               \n",
      "                                                                 \n",
      " input_1 (InputLayer)        multiple                  0         \n",
      "                                                                 \n",
      " block1_conv1 (Conv2D)       multiple                  1792      \n",
      "                                                                 \n",
      " block1_conv2 (Conv2D)       multiple                  36928     \n",
      "                                                                 \n",
      " block1_pool (MaxPooling2D)  multiple                  0         \n",
      "                                                                 \n",
      " block2_conv1 (Conv2D)       multiple                  73856     \n",
      "                                                                 \n",
      " block2_conv2 (Conv2D)       multiple                  147584    \n",
      "                                                                 \n",
      " block2_pool (MaxPooling2D)  multiple                  0         \n",
      "                                                                 \n",
      " block3_conv1 (Conv2D)       multiple                  295168    \n",
      "                                                                 \n",
      " block3_conv2 (Conv2D)       multiple                  590080    \n",
      "                                                                 \n",
      " block3_conv3 (Conv2D)       multiple                  590080    \n",
      "                                                                 \n",
      " block3_pool (MaxPooling2D)  multiple                  0         \n",
      "                                                                 \n",
      " block4_conv1 (Conv2D)       multiple                  1180160   \n",
      "                                                                 \n",
      " block4_conv2 (Conv2D)       multiple                  2359808   \n",
      "                                                                 \n",
      " block4_conv3 (Conv2D)       multiple                  2359808   \n",
      "                                                                 \n",
      " block4_pool (MaxPooling2D)  multiple                  0         \n",
      "                                                                 \n",
      " block5_conv1 (Conv2D)       multiple                  2359808   \n",
      "                                                                 \n",
      " block5_conv2 (Conv2D)       multiple                  2359808   \n",
      "                                                                 \n",
      " block5_conv3 (Conv2D)       multiple                  2359808   \n",
      "                                                                 \n",
      " block5_pool (MaxPooling2D)  multiple                  0         \n",
      "                                                                 \n",
      " flatten (Flatten)           (None, 2048)              0         \n",
      "                                                                 \n",
      " hidden1 (Dense)             (None, 512)               1049088   \n",
      "                                                                 \n",
      " dropout (Dropout)           (None, 512)               0         \n",
      "                                                                 \n",
      " hidden2 (Dense)             (None, 256)               131328    \n",
      "                                                                 \n",
      " dropout_1 (Dropout)         (None, 256)               0         \n",
      "                                                                 \n",
      " predictions (Dense)         (None, 10)                2570      \n",
      "                                                                 \n",
      "=================================================================\n",
      "Total params: 15,897,674\n",
      "Trainable params: 15,897,674\n",
      "Non-trainable params: 0\n",
      "_________________________________________________________________\n"
     ]
    }
   ],
   "source": [
    "vgg16_model = VGG16(weights='imagenet',\n",
    "                    include_top=False, \n",
    "                    classes=10,\n",
    "                    input_shape=(32,32,3)# input: 32x32 images with 3 channels -> (32, 32, 3) tensors.\n",
    "                   )\n",
    "\n",
    "model = Sequential()\n",
    "model.add(UpSampling2D(input_shape=(32, 32, 3)))\n",
    "for layer in vgg16_model.layers:\n",
    "    model.add(layer)\n",
    "    \n",
    "model.add(Flatten())\n",
    "model.add(Dense(512, activation='relu', name='hidden1'))\n",
    "model.add(Dropout(0.4))\n",
    "model.add(Dense(256, activation='relu', name='hidden2'))\n",
    "model.add(Dropout(0.4))\n",
    "model.add(Dense(10, activation='softmax', name='predictions'))\n",
    "\n",
    "model.summary()"
   ]
  },
  {
   "cell_type": "code",
   "execution_count": 3,
   "id": "5aa550de-3373-403b-aa68-4c13d380f657",
   "metadata": {},
   "outputs": [],
   "source": [
    "(X_train, y_train), (X_test, y_test) = k.datasets.cifar10.load_data()\n",
    "\n",
    "# Convert class vectors to binary class matrices using one hot encoding\n",
    "y_train_ohe = to_categorical(y_train, num_classes = 10)\n",
    "y_test_ohe = to_categorical(y_test, num_classes = 10)\n",
    "\n",
    "# Data normalization\n",
    "X_train = X_train.astype('float32')\n",
    "X_test = X_test.astype('float32')\n",
    "X_train  /= 255\n",
    "X_test /= 255\n",
    "\n",
    "X_val = X_train[40000:]\n",
    "y_val = y_train_ohe[40000:]\n",
    "X_train = X_train[:40000]\n",
    "y_train_ohe = y_train_ohe[:40000]"
   ]
  },
  {
   "cell_type": "code",
   "execution_count": 4,
   "id": "cd84784e-9056-4f3c-9cc2-29ab9a4e12ac",
   "metadata": {},
   "outputs": [
    {
     "name": "stdout",
     "output_type": "stream",
     "text": [
      "Training started at %s Tue May  9 20:36:18 2023\n",
      "Epoch 1/40\n"
     ]
    },
    {
     "name": "stderr",
     "output_type": "stream",
     "text": [
      "/opt/conda/lib/python3.10/site-packages/keras/optimizer_v2/gradient_descent.py:102: UserWarning: The `lr` argument is deprecated, use `learning_rate` instead.\n",
      "  super(SGD, self).__init__(name, **kwargs)\n",
      "/tmp/ipykernel_65088/934648463.py:33: UserWarning: `Model.fit_generator` is deprecated and will be removed in a future version. Please use `Model.fit`, which supports generators.\n",
      "  history = model.fit_generator(\n",
      "2023-05-09 20:36:21.210210: I tensorflow/stream_executor/cuda/cuda_dnn.cc:368] Loaded cuDNN version 8400\n",
      "2023-05-09 20:36:23.139524: I tensorflow/core/platform/default/subprocess.cc:304] Start cannot spawn child process: No such file or directory\n",
      "2023-05-09 20:36:23.141324: I tensorflow/core/platform/default/subprocess.cc:304] Start cannot spawn child process: No such file or directory\n",
      "2023-05-09 20:36:23.141380: W tensorflow/stream_executor/gpu/asm_compiler.cc:80] Couldn't get ptxas version string: INTERNAL: Couldn't invoke ptxas --version\n",
      "2023-05-09 20:36:23.143247: I tensorflow/core/platform/default/subprocess.cc:304] Start cannot spawn child process: No such file or directory\n",
      "2023-05-09 20:36:23.143364: W tensorflow/stream_executor/gpu/redzone_allocator.cc:314] INTERNAL: Failed to launch ptxas\n",
      "Relying on driver to perform ptx compilation. \n",
      "Modify $PATH to customize ptxas location.\n",
      "This message will be only logged once.\n",
      "2023-05-09 20:36:24.030731: I tensorflow/stream_executor/cuda/cuda_blas.cc:1786] TensorFloat-32 will be used for the matrix multiplication. This will only be logged once.\n"
     ]
    },
    {
     "name": "stdout",
     "output_type": "stream",
     "text": [
      "  2/312 [..............................] - ETA: 19s - loss: 2.6726 - accuracy: 0.1094  "
     ]
    },
    {
     "name": "stderr",
     "output_type": "stream",
     "text": [
      "2023-05-09 20:36:25.517404: W tensorflow/core/common_runtime/bfc_allocator.cc:275] Allocator (GPU_0_bfc) ran out of memory trying to allocate 2.17GiB with freed_by_count=0. The caller indicates that this is not a failure, but may mean that there could be performance gains if more memory were available.\n",
      "2023-05-09 20:36:25.517545: W tensorflow/core/common_runtime/bfc_allocator.cc:275] Allocator (GPU_0_bfc) ran out of memory trying to allocate 2.17GiB with freed_by_count=0. The caller indicates that this is not a failure, but may mean that there could be performance gains if more memory were available.\n"
     ]
    },
    {
     "name": "stdout",
     "output_type": "stream",
     "text": [
      "312/312 [==============================] - 33s 85ms/step - loss: 1.5955 - accuracy: 0.4302 - val_loss: 0.8123 - val_accuracy: 0.7149\n",
      "Epoch 2/40\n",
      "312/312 [==============================] - 24s 77ms/step - loss: 0.8778 - accuracy: 0.7024 - val_loss: 0.5826 - val_accuracy: 0.7980\n",
      "Epoch 3/40\n",
      "312/312 [==============================] - 23s 74ms/step - loss: 0.7099 - accuracy: 0.7652 - val_loss: 0.4555 - val_accuracy: 0.8447\n",
      "Epoch 4/40\n",
      "312/312 [==============================] - 23s 74ms/step - loss: 0.6067 - accuracy: 0.8000 - val_loss: 0.5664 - val_accuracy: 0.8134\n",
      "Epoch 5/40\n",
      "312/312 [==============================] - 23s 75ms/step - loss: 0.5335 - accuracy: 0.8230 - val_loss: 0.3666 - val_accuracy: 0.8739\n",
      "Epoch 6/40\n",
      "312/312 [==============================] - 24s 75ms/step - loss: 0.4883 - accuracy: 0.8385 - val_loss: 0.3709 - val_accuracy: 0.8753\n",
      "Epoch 7/40\n",
      "312/312 [==============================] - 24s 77ms/step - loss: 0.4539 - accuracy: 0.8508 - val_loss: 0.3144 - val_accuracy: 0.8932\n",
      "Epoch 8/40\n",
      "312/312 [==============================] - 23s 74ms/step - loss: 0.4248 - accuracy: 0.8582 - val_loss: 0.3227 - val_accuracy: 0.8944\n",
      "Epoch 9/40\n",
      "312/312 [==============================] - 23s 73ms/step - loss: 0.3971 - accuracy: 0.8686 - val_loss: 0.2981 - val_accuracy: 0.9009\n",
      "Epoch 10/40\n",
      "312/312 [==============================] - 24s 76ms/step - loss: 0.3675 - accuracy: 0.8801 - val_loss: 0.2679 - val_accuracy: 0.9104\n",
      "Epoch 11/40\n",
      "312/312 [==============================] - 23s 75ms/step - loss: 0.3478 - accuracy: 0.8848 - val_loss: 0.3137 - val_accuracy: 0.8945\n",
      "Epoch 12/40\n",
      "312/312 [==============================] - 24s 76ms/step - loss: 0.3289 - accuracy: 0.8925 - val_loss: 0.2889 - val_accuracy: 0.9034\n",
      "Epoch 13/40\n",
      "312/312 [==============================] - 23s 75ms/step - loss: 0.3151 - accuracy: 0.8968 - val_loss: 0.3102 - val_accuracy: 0.8961\n",
      "Epoch 14/40\n",
      "312/312 [==============================] - 23s 74ms/step - loss: 0.2988 - accuracy: 0.9001 - val_loss: 0.2925 - val_accuracy: 0.9041\n",
      "Epoch 15/40\n",
      "312/312 [==============================] - 24s 75ms/step - loss: 0.2878 - accuracy: 0.9047 - val_loss: 0.2803 - val_accuracy: 0.9103\n",
      "Epoch 16/40\n",
      "312/312 [==============================] - 23s 74ms/step - loss: 0.2776 - accuracy: 0.9076 - val_loss: 0.2506 - val_accuracy: 0.9167\n",
      "Epoch 17/40\n",
      "312/312 [==============================] - 24s 76ms/step - loss: 0.2584 - accuracy: 0.9140 - val_loss: 0.2663 - val_accuracy: 0.9133\n",
      "Epoch 18/40\n",
      "312/312 [==============================] - 24s 75ms/step - loss: 0.2522 - accuracy: 0.9164 - val_loss: 0.2575 - val_accuracy: 0.9185\n",
      "Epoch 19/40\n",
      "312/312 [==============================] - 23s 75ms/step - loss: 0.2415 - accuracy: 0.9199 - val_loss: 0.2680 - val_accuracy: 0.9150\n",
      "Epoch 20/40\n",
      "312/312 [==============================] - 24s 75ms/step - loss: 0.2304 - accuracy: 0.9244 - val_loss: 0.2502 - val_accuracy: 0.9208\n",
      "Epoch 21/40\n",
      "312/312 [==============================] - 23s 75ms/step - loss: 0.2287 - accuracy: 0.9248 - val_loss: 0.2532 - val_accuracy: 0.9165\n",
      "Epoch 22/40\n",
      "312/312 [==============================] - 24s 77ms/step - loss: 0.2139 - accuracy: 0.9296 - val_loss: 0.2706 - val_accuracy: 0.9152\n",
      "Epoch 23/40\n",
      "312/312 [==============================] - 23s 74ms/step - loss: 0.2070 - accuracy: 0.9317 - val_loss: 0.2902 - val_accuracy: 0.9131\n",
      "Epoch 24/40\n",
      "312/312 [==============================] - 23s 74ms/step - loss: 0.2004 - accuracy: 0.9331 - val_loss: 0.2441 - val_accuracy: 0.9206\n",
      "Epoch 25/40\n",
      "312/312 [==============================] - 24s 76ms/step - loss: 0.1883 - accuracy: 0.9397 - val_loss: 0.2407 - val_accuracy: 0.9239\n",
      "Epoch 26/40\n",
      "312/312 [==============================] - 23s 74ms/step - loss: 0.1824 - accuracy: 0.9395 - val_loss: 0.2431 - val_accuracy: 0.9243\n",
      "Epoch 27/40\n",
      "312/312 [==============================] - 23s 75ms/step - loss: 0.1755 - accuracy: 0.9418 - val_loss: 0.3115 - val_accuracy: 0.9083\n",
      "Epoch 28/40\n",
      "312/312 [==============================] - 23s 74ms/step - loss: 0.1672 - accuracy: 0.9440 - val_loss: 0.2648 - val_accuracy: 0.9198\n",
      "Epoch 29/40\n",
      "312/312 [==============================] - 23s 74ms/step - loss: 0.1667 - accuracy: 0.9436 - val_loss: 0.2585 - val_accuracy: 0.9239\n",
      "Epoch 30/40\n",
      "312/312 [==============================] - 24s 75ms/step - loss: 0.1572 - accuracy: 0.9491 - val_loss: 0.2370 - val_accuracy: 0.9280\n",
      "Epoch 31/40\n",
      "312/312 [==============================] - 23s 74ms/step - loss: 0.1547 - accuracy: 0.9470 - val_loss: 0.2660 - val_accuracy: 0.9222\n",
      "Epoch 32/40\n",
      "312/312 [==============================] - 24s 76ms/step - loss: 0.1428 - accuracy: 0.9528 - val_loss: 0.2504 - val_accuracy: 0.9253\n",
      "Epoch 33/40\n",
      "312/312 [==============================] - 23s 74ms/step - loss: 0.1426 - accuracy: 0.9528 - val_loss: 0.2377 - val_accuracy: 0.9308\n",
      "Epoch 34/40\n",
      "312/312 [==============================] - 23s 74ms/step - loss: 0.1327 - accuracy: 0.9557 - val_loss: 0.2799 - val_accuracy: 0.9242\n",
      "Epoch 35/40\n",
      "312/312 [==============================] - 24s 76ms/step - loss: 0.1343 - accuracy: 0.9560 - val_loss: 0.2449 - val_accuracy: 0.9247\n",
      "Epoch 36/40\n",
      "312/312 [==============================] - 23s 73ms/step - loss: 0.1236 - accuracy: 0.9581 - val_loss: 0.2279 - val_accuracy: 0.9331\n",
      "Epoch 37/40\n",
      "312/312 [==============================] - 23s 74ms/step - loss: 0.1245 - accuracy: 0.9582 - val_loss: 0.2739 - val_accuracy: 0.9239\n",
      "Epoch 38/40\n",
      "312/312 [==============================] - 24s 76ms/step - loss: 0.1211 - accuracy: 0.9595 - val_loss: 0.2455 - val_accuracy: 0.9309\n",
      "Epoch 39/40\n",
      "312/312 [==============================] - 24s 75ms/step - loss: 0.1178 - accuracy: 0.9613 - val_loss: 0.2783 - val_accuracy: 0.9252\n",
      "Epoch 40/40\n",
      "312/312 [==============================] - 23s 74ms/step - loss: 0.1133 - accuracy: 0.9622 - val_loss: 0.2452 - val_accuracy: 0.9337\n",
      "Training ended at %s Tue May  9 20:52:06 2023\n",
      "Training duration: %i seconds 948\n"
     ]
    }
   ],
   "source": [
    "# initiate SGD optimizer\n",
    "sgd = optimizers.SGD(lr=0.001, momentum=0.9)\n",
    "\n",
    "# For a multi-class classification problem\n",
    "model.compile(loss='categorical_crossentropy',optimizer= sgd,metrics=['accuracy'])\n",
    "\n",
    "\n",
    "def lr_scheduler(epoch):\n",
    "    return 0.001 * (0.5 ** (epoch // 20))\n",
    "reduce_lr = LearningRateScheduler(lr_scheduler)\n",
    "\n",
    "mc = ModelCheckpoint('./weights.h5', monitor='val_accuracy', save_best_only=True, mode='max')\n",
    "\n",
    "\n",
    "# initialize the number of epochs and batch size\n",
    "EPOCHS = 40\n",
    "BS = 128\n",
    "# construct the training image generator for data augmentation\n",
    "aug = ImageDataGenerator(\n",
    "    rotation_range=20, \n",
    "    zoom_range=0.15, \n",
    "    width_shift_range=0.2, \n",
    "    height_shift_range=0.2, \n",
    "    shear_range=0.15,\n",
    "    horizontal_flip=True, \n",
    "    fill_mode=\"nearest\")\n",
    " \n",
    "# Record start time\n",
    "start_time = time.time()\n",
    "print('Training started at %s', time.ctime(start_time))\n",
    "\n",
    "# train the model\n",
    "history = model.fit_generator(\n",
    "    aug.flow(X_train,y_train_ohe, batch_size=BS),\n",
    "    validation_data=(X_val,y_val),\n",
    "    steps_per_epoch=len(X_train) // BS,\n",
    "    epochs=EPOCHS)\n",
    "\n",
    "# Record end time\n",
    "end_time = time.time()\n",
    "print('Training ended at %s', time.ctime(end_time))\n",
    "\n",
    "# Calculate duration of training\n",
    "duration = end_time - start_time\n",
    "print('Training duration: %i seconds', int(duration))\n"
   ]
  },
  {
   "cell_type": "code",
   "execution_count": 5,
   "id": "611dbb9f-3177-44c1-8a48-f8cf9cc5c3a1",
   "metadata": {
    "tags": []
   },
   "outputs": [
    {
     "data": {
      "text/plain": [
       "<matplotlib.legend.Legend at 0x7f944c293730>"
      ]
     },
     "execution_count": 5,
     "metadata": {},
     "output_type": "execute_result"
    },
    {
     "data": {
      "image/png": "[encoded data removed]",
      "text/plain": [
       "<Figure size 1080x1080 with 2 Axes>"
      ]
     },
     "metadata": {
      "needs_background": "light"
     },
     "output_type": "display_data"
    }
   ],
   "source": [
    "fig, axs = plt.subplots(2, 1, figsize=(15,15))\n",
    "axs[0].plot(history.history['loss'])\n",
    "axs[0].plot(history.history['val_loss'])\n",
    "axs[0].title.set_text('Training Loss vs Validation Loss')\n",
    "axs[0].set_xlabel('Epochs')\n",
    "axs[0].set_ylabel('Loss')\n",
    "axs[0].legend(['Train','Val'])\n",
    "axs[1].plot(history.history['accuracy'])\n",
    "axs[1].plot(history.history['val_accuracy'])\n",
    "axs[1].title.set_text('Training Accuracy vs Validation Accuracy')\n",
    "axs[1].set_xlabel('Epochs')\n",
    "axs[1].set_ylabel('Accuracy')\n",
    "axs[1].legend(['Train', 'Val'])"
   ]
  },
  {
   "cell_type": "code",
   "execution_count": 6,
   "id": "d9b2fb6d-acb7-4e42-987a-92bedac0669d",
   "metadata": {
    "tags": []
   },
   "outputs": [
    {
     "name": "stdout",
     "output_type": "stream",
     "text": [
      "313/313 [==============================] - 3s 9ms/step - loss: 0.2672 - accuracy: 0.9300\n"
     ]
    },
    {
     "data": {
      "text/plain": [
       "[0.26720601320266724, 0.9300000071525574]"
      ]
     },
     "execution_count": 6,
     "metadata": {},
     "output_type": "execute_result"
    }
   ],
   "source": [
    "model.evaluate(X_test, y_test_ohe)"
   ]
  }
 ],
 "metadata": {
  "kernelspec": {
   "display_name": "Python 3 (ipykernel)",
   "language": "python",
   "name": "python3"
  },
  "language_info": {
   "codemirror_mode": {
    "name": "ipython",
    "version": 3
   },
   "file_extension": ".py",
   "mimetype": "text/x-python",
   "name": "python",
   "nbconvert_exporter": "python",
   "pygments_lexer": "ipython3",
   "version": "3.10.5"
  }
 },
 "nbformat": 4,
 "nbformat_minor": 5
}
