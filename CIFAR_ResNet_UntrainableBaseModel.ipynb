{
 "cells": [
  {
   "cell_type": "code",
   "execution_count": 1,
   "id": "666df412-117c-49c0-a6e9-d1015acadb52",
   "metadata": {
    "tags": []
   },
   "outputs": [],
   "source": [
    "import os\n",
    "import matplotlib.pyplot as plt\n",
    "import numpy as np\n",
    "import torch\n",
    "import random\n",
    "from tqdm import tqdm # for progress bar\n",
    "import seaborn as sns\n",
    "from sklearn.metrics import confusion_matrix\n",
    "from sklearn.preprocessing import LabelBinarizer\n",
    "\n",
    "# Libraries for TensorFlow\n",
    "import tensorflow as tf\n",
    "import matplotlib.pyplot as plt\n",
    "from tensorflow.keras import datasets, layers, models, losses, Model\n",
    "from tensorflow.keras.optimizers import Adam\n",
    "from tensorflow.keras.optimizers import SGD\n",
    "from keras.models import Sequential\n",
    "from keras import callbacks\n",
    "# from livelossplot.inputs.keras import PlotLossesCallback\n",
    "from keras.datasets import mnist, cifar10\n",
    "from keras.utils import np_utils\n",
    "from keras.preprocessing.image import ImageDataGenerator\n",
    "from keras.callbacks import LearningRateScheduler\n",
    "\n",
    "# Library for Transfer Learning\n",
    "from tensorflow.keras.applications import ResNet\n",
    "from keras.applications.vgg16 import preprocess_input"
   ]
  },
  {
   "cell_type": "code",
   "execution_count": 2,
   "id": "a7c331c5-2d8c-422a-8344-af489b359923",
   "metadata": {
    "tags": []
   },
   "outputs": [
    {
     "name": "stderr",
     "output_type": "stream",
     "text": [
      "2023-05-08 17:58:24.811942: I tensorflow/core/platform/cpu_feature_guard.cc:151] This TensorFlow binary is optimized with oneAPI Deep Neural Network Library (oneDNN) to use the following CPU instructions in performance-critical operations:  AVX2 AVX512F FMA\n",
      "To enable them in other operations, rebuild TensorFlow with the appropriate compiler flags.\n",
      "2023-05-08 17:58:27.419486: I tensorflow/core/common_runtime/gpu/gpu_device.cc:1525] Created device /job:localhost/replica:0/task:0/device:GPU:0 with 2642 MB memory:  -> device: 0, name: NVIDIA A100 80GB PCIe, pci bus id: 0000:c2:00.0, compute capability: 8.0\n"
     ]
    }
   ],
   "source": [
    "(x_train,y_train), (x_test,y_test) = cifar10.load_data()\n",
    "\n",
    "# making all the values range between 0 and 1\n",
    "x_train = tf.pad(x_train, [[0, 0], [2, 2], [2, 2], [0, 0]], mode='constant') / 255\n",
    "x_test = tf.pad(x_test, [[0, 0], [2, 2], [2, 2], [0, 0]], mode='constant') / 255\n",
    "\n",
    "# Apply one-hot encoding to the image label : Ex: Class '1' = [0,1,0,0,0,0,0,0,0,0,0]\n",
    "y_train = tf.keras.utils.to_categorical(y_train)\n",
    "y_test  = tf.keras.utils.to_categorical(y_test)\n",
    "\n",
    "## Training datasets : 48000 image samples - Validation datasets : 2000 image samples - Testing datasets : 10000 image samples\n",
    "x_val = x_train[-2000:,:,:,:]\n",
    "x_train = x_train[:-2000,:,:,:]\n",
    "y_val = y_train[-2000:]\n",
    "y_train = y_train[:-2000]\n"
   ]
  },
  {
   "cell_type": "code",
   "execution_count": 3,
   "id": "9878afe2-9ce8-4e38-8068-67e4e05bb376",
   "metadata": {
    "tags": []
   },
   "outputs": [],
   "source": [
    "# Incorporating reduced learning and early stopping for callback\n",
    "reduce_learning = callbacks.ReduceLROnPlateau(\n",
    "    monitor='val_loss',\n",
    "    factor=0.2,\n",
    "    patience=2,\n",
    "    verbose=1,\n",
    "    mode='auto',\n",
    "    min_delta=0.0001,\n",
    "    cooldown=2,\n",
    "    min_lr=0)\n",
    "\n",
    "eary_stopping = callbacks.EarlyStopping(\n",
    "    monitor='val_loss',\n",
    "    min_delta=0,\n",
    "    patience=7,\n",
    "    verbose=1,\n",
    "    mode='auto')\n",
    "\n",
    "# ModelCheckpoint callback - save best weights\n",
    "tl_checkpoint_1 = callbacks.ModelCheckpoint(filepath='model/resnet_cifar.weights.best.hdf5',\n",
    "                                  save_best_only=True,\n",
    "                                  verbose=1)\n",
    "\n",
    "callbacks_def = [reduce_learning, eary_stopping, tl_checkpoint_1]"
   ]
  },
  {
   "cell_type": "code",
   "execution_count": 4,
   "id": "7f166a16-87d4-46bb-bdff-8def269dd980",
   "metadata": {
    "tags": []
   },
   "outputs": [
    {
     "name": "stdout",
     "output_type": "stream",
     "text": [
      "Model: \"sequential\"\n",
      "_________________________________________________________________\n",
      " Layer (type)                Output Shape              Param #   \n",
      "=================================================================\n",
      " resnet50 (Functional)       (None, 2, 2, 2048)        23587712  \n",
      "                                                                 \n",
      " global_average_pooling2d (G  (None, 2048)             0         \n",
      " lobalAveragePooling2D)                                          \n",
      "                                                                 \n",
      " dense (Dense)               (None, 1024)              2098176   \n",
      "                                                                 \n",
      " dropout (Dropout)           (None, 1024)              0         \n",
      "                                                                 \n",
      " dense_1 (Dense)             (None, 512)               524800    \n",
      "                                                                 \n",
      " dropout_1 (Dropout)         (None, 512)               0         \n",
      "                                                                 \n",
      " dense_2 (Dense)             (None, 10)                5130      \n",
      "                                                                 \n",
      "=================================================================\n",
      "Total params: 26,215,818\n",
      "Trainable params: 2,628,106\n",
      "Non-trainable params: 23,587,712\n",
      "_________________________________________________________________\n"
     ]
    }
   ],
   "source": [
    "# Using pooling='average' in ResNet50()  => ACCURACY: 0.11 - Not improving \n",
    "head_model = Sequential()\n",
    "head_model.add(ResNet50(include_top=False, weights='imagenet', input_shape = (36,36,3)))\n",
    "for layer in head_model.layers:\n",
    "  layer.trainable = False\n",
    "\n",
    "head_model.add(layers.GlobalAveragePooling2D())\n",
    "head_model.add(layers.Dense(1024, activation='relu'))\n",
    "head_model.add(layers.Dropout(0.1))\n",
    "head_model.add(layers.Dense(512, activation='relu'))\n",
    "head_model.add(layers.Dropout(0.1))\n",
    "head_model.add(layers.Dense(10, activation='softmax'))\n",
    "head_model.summary()"
   ]
  },
  {
   "cell_type": "code",
   "execution_count": 5,
   "id": "45a23c27-26be-4c70-8085-28195987005f",
   "metadata": {
    "tags": []
   },
   "outputs": [
    {
     "name": "stdout",
     "output_type": "stream",
     "text": [
      "Epoch 1/40\n"
     ]
    },
    {
     "name": "stderr",
     "output_type": "stream",
     "text": [
      "2023-05-08 17:58:35.133837: I tensorflow/stream_executor/cuda/cuda_dnn.cc:368] Loaded cuDNN version 8302\n",
      "2023-05-08 17:58:36.698520: I tensorflow/core/platform/default/subprocess.cc:304] Start cannot spawn child process: No such file or directory\n",
      "2023-05-08 17:58:36.699543: I tensorflow/core/platform/default/subprocess.cc:304] Start cannot spawn child process: No such file or directory\n",
      "2023-05-08 17:58:36.699596: W tensorflow/stream_executor/gpu/asm_compiler.cc:80] Couldn't get ptxas version string: INTERNAL: Couldn't invoke ptxas --version\n",
      "2023-05-08 17:58:36.700952: I tensorflow/core/platform/default/subprocess.cc:304] Start cannot spawn child process: No such file or directory\n",
      "2023-05-08 17:58:36.701067: W tensorflow/stream_executor/gpu/redzone_allocator.cc:314] INTERNAL: Failed to launch ptxas\n",
      "Relying on driver to perform ptx compilation. \n",
      "Modify $PATH to customize ptxas location.\n",
      "This message will be only logged once.\n"
     ]
    },
    {
     "name": "stdout",
     "output_type": "stream",
     "text": [
      " 11/750 [..............................] - ETA: 8s - loss: 2.5484 - accuracy: 0.1108   "
     ]
    },
    {
     "name": "stderr",
     "output_type": "stream",
     "text": [
      "2023-05-08 17:58:37.340429: W tensorflow/core/common_runtime/bfc_allocator.cc:275] Allocator (GPU_0_bfc) ran out of memory trying to allocate 1.34GiB with freed_by_count=0. The caller indicates that this is not a failure, but may mean that there could be performance gains if more memory were available.\n",
      "2023-05-08 17:58:37.340509: W tensorflow/core/common_runtime/bfc_allocator.cc:275] Allocator (GPU_0_bfc) ran out of memory trying to allocate 1.34GiB with freed_by_count=0. The caller indicates that this is not a failure, but may mean that there could be performance gains if more memory were available.\n",
      "2023-05-08 17:58:37.371426: W tensorflow/core/common_runtime/bfc_allocator.cc:275] Allocator (GPU_0_bfc) ran out of memory trying to allocate 2.34GiB with freed_by_count=0. The caller indicates that this is not a failure, but may mean that there could be performance gains if more memory were available.\n",
      "2023-05-08 17:58:37.371507: W tensorflow/core/common_runtime/bfc_allocator.cc:275] Allocator (GPU_0_bfc) ran out of memory trying to allocate 2.34GiB with freed_by_count=0. The caller indicates that this is not a failure, but may mean that there could be performance gains if more memory were available.\n",
      "2023-05-08 17:58:37.409862: W tensorflow/core/common_runtime/bfc_allocator.cc:275] Allocator (GPU_0_bfc) ran out of memory trying to allocate 2.55GiB with freed_by_count=0. The caller indicates that this is not a failure, but may mean that there could be performance gains if more memory were available.\n",
      "2023-05-08 17:58:37.409933: W tensorflow/core/common_runtime/bfc_allocator.cc:275] Allocator (GPU_0_bfc) ran out of memory trying to allocate 2.55GiB with freed_by_count=0. The caller indicates that this is not a failure, but may mean that there could be performance gains if more memory were available.\n",
      "2023-05-08 17:58:37.423533: I tensorflow/stream_executor/cuda/cuda_blas.cc:1786] TensorFloat-32 will be used for the matrix multiplication. This will only be logged once.\n"
     ]
    },
    {
     "name": "stdout",
     "output_type": "stream",
     "text": [
      "747/750 [============================>.] - ETA: 0s - loss: 2.0561 - accuracy: 0.2356\n",
      "Epoch 1: val_loss improved from inf to 1.93216, saving model to model/resnet_cifar.weights.best.hdf5\n"
     ]
    },
    {
     "name": "stderr",
     "output_type": "stream",
     "text": [
      "2023-05-08 17:58:47.861736: W tensorflow/core/common_runtime/bfc_allocator.cc:275] Allocator (GPU_0_bfc) ran out of memory trying to allocate 1.14GiB with freed_by_count=0. The caller indicates that this is not a failure, but may mean that there could be performance gains if more memory were available.\n",
      "2023-05-08 17:58:47.861799: W tensorflow/core/common_runtime/bfc_allocator.cc:275] Allocator (GPU_0_bfc) ran out of memory trying to allocate 1.14GiB with freed_by_count=0. The caller indicates that this is not a failure, but may mean that there could be performance gains if more memory were available.\n",
      "2023-05-08 17:58:47.879113: W tensorflow/core/common_runtime/bfc_allocator.cc:275] Allocator (GPU_0_bfc) ran out of memory trying to allocate 2.29GiB with freed_by_count=0. The caller indicates that this is not a failure, but may mean that there could be performance gains if more memory were available.\n",
      "2023-05-08 17:58:47.879174: W tensorflow/core/common_runtime/bfc_allocator.cc:275] Allocator (GPU_0_bfc) ran out of memory trying to allocate 2.29GiB with freed_by_count=0. The caller indicates that this is not a failure, but may mean that there could be performance gains if more memory were available.\n"
     ]
    },
    {
     "name": "stdout",
     "output_type": "stream",
     "text": [
      "750/750 [==============================] - 18s 15ms/step - loss: 2.0552 - accuracy: 0.2362 - val_loss: 1.9322 - val_accuracy: 0.2925 - lr: 0.0010\n",
      "Epoch 2/40\n",
      "746/750 [============================>.] - ETA: 0s - loss: 1.9043 - accuracy: 0.3037\n",
      "Epoch 2: val_loss improved from 1.93216 to 1.83571, saving model to model/resnet_cifar.weights.best.hdf5\n",
      "750/750 [==============================] - 9s 12ms/step - loss: 1.9040 - accuracy: 0.3040 - val_loss: 1.8357 - val_accuracy: 0.3270 - lr: 0.0010\n",
      "Epoch 3/40\n",
      "746/750 [============================>.] - ETA: 0s - loss: 1.8391 - accuracy: 0.3311\n",
      "Epoch 3: val_loss improved from 1.83571 to 1.79341, saving model to model/resnet_cifar.weights.best.hdf5\n",
      "750/750 [==============================] - 9s 12ms/step - loss: 1.8392 - accuracy: 0.3312 - val_loss: 1.7934 - val_accuracy: 0.3515 - lr: 0.0010\n",
      "Epoch 4/40\n",
      "746/750 [============================>.] - ETA: 0s - loss: 1.7953 - accuracy: 0.3512\n",
      "Epoch 4: val_loss improved from 1.79341 to 1.73337, saving model to model/resnet_cifar.weights.best.hdf5\n",
      "750/750 [==============================] - 9s 12ms/step - loss: 1.7951 - accuracy: 0.3514 - val_loss: 1.7334 - val_accuracy: 0.3700 - lr: 0.0010\n",
      "Epoch 5/40\n",
      "750/750 [==============================] - ETA: 0s - loss: 1.7647 - accuracy: 0.3612\n",
      "Epoch 5: val_loss did not improve from 1.73337\n",
      "750/750 [==============================] - 9s 12ms/step - loss: 1.7647 - accuracy: 0.3612 - val_loss: 1.7548 - val_accuracy: 0.3715 - lr: 0.0010\n",
      "Epoch 6/40\n",
      "750/750 [==============================] - ETA: 0s - loss: 1.7465 - accuracy: 0.3697\n",
      "Epoch 6: val_loss improved from 1.73337 to 1.73058, saving model to model/resnet_cifar.weights.best.hdf5\n",
      "750/750 [==============================] - 10s 14ms/step - loss: 1.7465 - accuracy: 0.3697 - val_loss: 1.7306 - val_accuracy: 0.3750 - lr: 0.0010\n",
      "Epoch 7/40\n",
      "746/750 [============================>.] - ETA: 0s - loss: 1.7263 - accuracy: 0.3782\n",
      "Epoch 7: val_loss improved from 1.73058 to 1.72871, saving model to model/resnet_cifar.weights.best.hdf5\n",
      "750/750 [==============================] - 9s 12ms/step - loss: 1.7257 - accuracy: 0.3785 - val_loss: 1.7287 - val_accuracy: 0.3795 - lr: 0.0010\n",
      "Epoch 8/40\n",
      "746/750 [============================>.] - ETA: 0s - loss: 1.7132 - accuracy: 0.3771\n",
      "Epoch 8: val_loss improved from 1.72871 to 1.70521, saving model to model/resnet_cifar.weights.best.hdf5\n",
      "750/750 [==============================] - 9s 12ms/step - loss: 1.7140 - accuracy: 0.3767 - val_loss: 1.7052 - val_accuracy: 0.3785 - lr: 0.0010\n",
      "Epoch 9/40\n",
      "749/750 [============================>.] - ETA: 0s - loss: 1.6936 - accuracy: 0.3915\n",
      "Epoch 9: val_loss improved from 1.70521 to 1.65420, saving model to model/resnet_cifar.weights.best.hdf5\n",
      "750/750 [==============================] - 10s 14ms/step - loss: 1.6934 - accuracy: 0.3916 - val_loss: 1.6542 - val_accuracy: 0.4115 - lr: 0.0010\n",
      "Epoch 10/40\n",
      "748/750 [============================>.] - ETA: 0s - loss: 1.6926 - accuracy: 0.3897\n",
      "Epoch 10: val_loss did not improve from 1.65420\n",
      "750/750 [==============================] - 9s 11ms/step - loss: 1.6924 - accuracy: 0.3899 - val_loss: 1.6735 - val_accuracy: 0.4020 - lr: 0.0010\n",
      "Epoch 11/40\n",
      "750/750 [==============================] - ETA: 0s - loss: 1.6762 - accuracy: 0.3961\n",
      "Epoch 11: val_loss improved from 1.65420 to 1.65327, saving model to model/resnet_cifar.weights.best.hdf5\n",
      "750/750 [==============================] - 9s 13ms/step - loss: 1.6762 - accuracy: 0.3961 - val_loss: 1.6533 - val_accuracy: 0.4015 - lr: 0.0010\n",
      "Epoch 12/40\n",
      "750/750 [==============================] - ETA: 0s - loss: 1.6674 - accuracy: 0.4003\n",
      "Epoch 12: val_loss improved from 1.65327 to 1.64131, saving model to model/resnet_cifar.weights.best.hdf5\n",
      "750/750 [==============================] - 10s 13ms/step - loss: 1.6674 - accuracy: 0.4003 - val_loss: 1.6413 - val_accuracy: 0.4015 - lr: 0.0010\n",
      "Epoch 13/40\n",
      "748/750 [============================>.] - ETA: 0s - loss: 1.6576 - accuracy: 0.4055\n",
      "Epoch 13: val_loss improved from 1.64131 to 1.61633, saving model to model/resnet_cifar.weights.best.hdf5\n",
      "750/750 [==============================] - 10s 13ms/step - loss: 1.6578 - accuracy: 0.4054 - val_loss: 1.6163 - val_accuracy: 0.4165 - lr: 0.0010\n",
      "Epoch 14/40\n",
      "747/750 [============================>.] - ETA: 0s - loss: 1.6424 - accuracy: 0.4104\n",
      "Epoch 14: val_loss did not improve from 1.61633\n",
      "750/750 [==============================] - 8s 11ms/step - loss: 1.6425 - accuracy: 0.4106 - val_loss: 1.6334 - val_accuracy: 0.3980 - lr: 0.0010\n",
      "Epoch 15/40\n",
      "747/750 [============================>.] - ETA: 0s - loss: 1.6394 - accuracy: 0.4107\n",
      "Epoch 15: ReduceLROnPlateau reducing learning rate to 0.00020000000949949026.\n",
      "\n",
      "Epoch 15: val_loss did not improve from 1.61633\n",
      "750/750 [==============================] - 9s 11ms/step - loss: 1.6393 - accuracy: 0.4108 - val_loss: 1.6465 - val_accuracy: 0.4155 - lr: 0.0010\n",
      "Epoch 16/40\n",
      "749/750 [============================>.] - ETA: 0s - loss: 1.5705 - accuracy: 0.4369\n",
      "Epoch 16: val_loss improved from 1.61633 to 1.56505, saving model to model/resnet_cifar.weights.best.hdf5\n",
      "750/750 [==============================] - 10s 13ms/step - loss: 1.5708 - accuracy: 0.4367 - val_loss: 1.5651 - val_accuracy: 0.4355 - lr: 2.0000e-04\n",
      "Epoch 17/40\n",
      "749/750 [============================>.] - ETA: 0s - loss: 1.5643 - accuracy: 0.4380\n",
      "Epoch 17: val_loss improved from 1.56505 to 1.56016, saving model to model/resnet_cifar.weights.best.hdf5\n",
      "750/750 [==============================] - 10s 13ms/step - loss: 1.5643 - accuracy: 0.4380 - val_loss: 1.5602 - val_accuracy: 0.4385 - lr: 2.0000e-04\n",
      "Epoch 18/40\n",
      "748/750 [============================>.] - ETA: 0s - loss: 1.5611 - accuracy: 0.4392\n",
      "Epoch 18: val_loss did not improve from 1.56016\n",
      "750/750 [==============================] - 9s 12ms/step - loss: 1.5608 - accuracy: 0.4394 - val_loss: 1.5624 - val_accuracy: 0.4375 - lr: 2.0000e-04\n",
      "Epoch 19/40\n",
      "750/750 [==============================] - ETA: 0s - loss: 1.5534 - accuracy: 0.4430\n",
      "Epoch 19: val_loss improved from 1.56016 to 1.54791, saving model to model/resnet_cifar.weights.best.hdf5\n",
      "750/750 [==============================] - 10s 13ms/step - loss: 1.5534 - accuracy: 0.4430 - val_loss: 1.5479 - val_accuracy: 0.4385 - lr: 2.0000e-04\n",
      "Epoch 20/40\n",
      "750/750 [==============================] - ETA: 0s - loss: 1.5516 - accuracy: 0.4439\n",
      "Epoch 20: val_loss did not improve from 1.54791\n",
      "750/750 [==============================] - 9s 12ms/step - loss: 1.5516 - accuracy: 0.4439 - val_loss: 1.5494 - val_accuracy: 0.4425 - lr: 2.0000e-04\n",
      "Epoch 21/40\n",
      "750/750 [==============================] - ETA: 0s - loss: 1.5471 - accuracy: 0.4459\n",
      "Epoch 21: ReduceLROnPlateau reducing learning rate to 4.0000001899898055e-05.\n",
      "\n",
      "Epoch 21: val_loss did not improve from 1.54791\n",
      "750/750 [==============================] - 9s 12ms/step - loss: 1.5471 - accuracy: 0.4459 - val_loss: 1.5487 - val_accuracy: 0.4350 - lr: 2.0000e-04\n",
      "Epoch 22/40\n",
      "748/750 [============================>.] - ETA: 0s - loss: 1.5310 - accuracy: 0.4524\n",
      "Epoch 22: val_loss improved from 1.54791 to 1.53660, saving model to model/resnet_cifar.weights.best.hdf5\n",
      "750/750 [==============================] - 9s 13ms/step - loss: 1.5311 - accuracy: 0.4525 - val_loss: 1.5366 - val_accuracy: 0.4525 - lr: 4.0000e-05\n",
      "Epoch 23/40\n",
      "747/750 [============================>.] - ETA: 0s - loss: 1.5304 - accuracy: 0.4546\n",
      "Epoch 23: val_loss improved from 1.53660 to 1.53451, saving model to model/resnet_cifar.weights.best.hdf5\n",
      "750/750 [==============================] - 9s 12ms/step - loss: 1.5306 - accuracy: 0.4545 - val_loss: 1.5345 - val_accuracy: 0.4520 - lr: 4.0000e-05\n",
      "Epoch 24/40\n",
      "748/750 [============================>.] - ETA: 0s - loss: 1.5237 - accuracy: 0.4533\n",
      "Epoch 24: val_loss did not improve from 1.53451\n",
      "750/750 [==============================] - 9s 11ms/step - loss: 1.5238 - accuracy: 0.4534 - val_loss: 1.5380 - val_accuracy: 0.4500 - lr: 4.0000e-05\n",
      "Epoch 25/40\n",
      "747/750 [============================>.] - ETA: 0s - loss: 1.5259 - accuracy: 0.4541\n",
      "Epoch 25: ReduceLROnPlateau reducing learning rate to 8.000000525498762e-06.\n",
      "\n",
      "Epoch 25: val_loss did not improve from 1.53451\n",
      "750/750 [==============================] - 10s 13ms/step - loss: 1.5257 - accuracy: 0.4541 - val_loss: 1.5402 - val_accuracy: 0.4520 - lr: 4.0000e-05\n",
      "Epoch 26/40\n",
      "745/750 [============================>.] - ETA: 0s - loss: 1.5224 - accuracy: 0.4543\n",
      "Epoch 26: val_loss improved from 1.53451 to 1.53370, saving model to model/resnet_cifar.weights.best.hdf5\n",
      "750/750 [==============================] - 9s 12ms/step - loss: 1.5218 - accuracy: 0.4546 - val_loss: 1.5337 - val_accuracy: 0.4500 - lr: 8.0000e-06\n",
      "Epoch 27/40\n",
      "746/750 [============================>.] - ETA: 0s - loss: 1.5215 - accuracy: 0.4557\n",
      "Epoch 27: val_loss improved from 1.53370 to 1.53327, saving model to model/resnet_cifar.weights.best.hdf5\n",
      "750/750 [==============================] - 9s 12ms/step - loss: 1.5217 - accuracy: 0.4555 - val_loss: 1.5333 - val_accuracy: 0.4525 - lr: 8.0000e-06\n",
      "Epoch 28/40\n",
      "746/750 [============================>.] - ETA: 0s - loss: 1.5213 - accuracy: 0.4551\n",
      "Epoch 28: val_loss improved from 1.53327 to 1.53233, saving model to model/resnet_cifar.weights.best.hdf5\n",
      "750/750 [==============================] - 9s 12ms/step - loss: 1.5214 - accuracy: 0.4549 - val_loss: 1.5323 - val_accuracy: 0.4515 - lr: 8.0000e-06\n",
      "Epoch 29/40\n",
      "750/750 [==============================] - ETA: 0s - loss: 1.5197 - accuracy: 0.4568\n",
      "Epoch 29: val_loss did not improve from 1.53233\n",
      "750/750 [==============================] - 9s 12ms/step - loss: 1.5197 - accuracy: 0.4568 - val_loss: 1.5335 - val_accuracy: 0.4510 - lr: 8.0000e-06\n",
      "Epoch 30/40\n",
      "747/750 [============================>.] - ETA: 0s - loss: 1.5195 - accuracy: 0.4545\n",
      "Epoch 30: ReduceLROnPlateau reducing learning rate to 1.6000001778593287e-06.\n",
      "\n",
      "Epoch 30: val_loss did not improve from 1.53233\n",
      "750/750 [==============================] - 8s 11ms/step - loss: 1.5195 - accuracy: 0.4544 - val_loss: 1.5335 - val_accuracy: 0.4500 - lr: 8.0000e-06\n",
      "Epoch 31/40\n",
      "748/750 [============================>.] - ETA: 0s - loss: 1.5218 - accuracy: 0.4564\n",
      "Epoch 31: val_loss did not improve from 1.53233\n",
      "750/750 [==============================] - 9s 12ms/step - loss: 1.5216 - accuracy: 0.4564 - val_loss: 1.5326 - val_accuracy: 0.4515 - lr: 1.6000e-06\n",
      "Epoch 32/40\n",
      "750/750 [==============================] - ETA: 0s - loss: 1.5220 - accuracy: 0.4554\n",
      "Epoch 32: val_loss did not improve from 1.53233\n",
      "750/750 [==============================] - 9s 12ms/step - loss: 1.5220 - accuracy: 0.4554 - val_loss: 1.5332 - val_accuracy: 0.4505 - lr: 1.6000e-06\n",
      "Epoch 33/40\n",
      "747/750 [============================>.] - ETA: 0s - loss: 1.5220 - accuracy: 0.4557\n",
      "Epoch 33: ReduceLROnPlateau reducing learning rate to 3.200000264769187e-07.\n",
      "\n",
      "Epoch 33: val_loss did not improve from 1.53233\n",
      "750/750 [==============================] - 10s 13ms/step - loss: 1.5218 - accuracy: 0.4557 - val_loss: 1.5329 - val_accuracy: 0.4520 - lr: 1.6000e-06\n",
      "Epoch 34/40\n",
      "746/750 [============================>.] - ETA: 0s - loss: 1.5186 - accuracy: 0.4567\n",
      "Epoch 34: val_loss did not improve from 1.53233\n",
      "750/750 [==============================] - 9s 12ms/step - loss: 1.5189 - accuracy: 0.4566 - val_loss: 1.5331 - val_accuracy: 0.4515 - lr: 3.2000e-07\n",
      "Epoch 35/40\n",
      "750/750 [==============================] - ETA: 0s - loss: 1.5184 - accuracy: 0.4564\n",
      "Epoch 35: val_loss did not improve from 1.53233\n",
      "750/750 [==============================] - 9s 12ms/step - loss: 1.5184 - accuracy: 0.4564 - val_loss: 1.5330 - val_accuracy: 0.4525 - lr: 3.2000e-07\n",
      "Epoch 35: early stopping\n"
     ]
    }
   ],
   "source": [
    "head_model.compile(optimizer='adam', loss=losses.categorical_crossentropy, metrics=['accuracy'])\n",
    "\n",
    "history = head_model.fit(x_train, y_train, batch_size=64, epochs=40, validation_data=(x_val, y_val), callbacks=callbacks_def)\n"
   ]
  },
  {
   "cell_type": "code",
   "execution_count": 6,
   "id": "edd0648f-5790-441c-8695-b4f10cf8a0b2",
   "metadata": {
    "tags": []
   },
   "outputs": [
    {
     "data": {
      "text/plain": [
       "<matplotlib.legend.Legend at 0x7fadc55bfdf0>"
      ]
     },
     "execution_count": 6,
     "metadata": {},
     "output_type": "execute_result"
    },
    {
     "data": {
      "image/png": "[encoded data removed]",
      "text/plain": [
       "<Figure size 1080x1080 with 2 Axes>"
      ]
     },
     "metadata": {
      "needs_background": "light"
     },
     "output_type": "display_data"
    }
   ],
   "source": [
    "fig, axs = plt.subplots(2, 1, figsize=(15,15))\n",
    "axs[0].plot(history.history['loss'])\n",
    "axs[0].plot(history.history['val_loss'])\n",
    "axs[0].title.set_text('Training Loss vs Validation Loss')\n",
    "axs[0].set_xlabel('Epochs')\n",
    "axs[0].set_ylabel('Loss')\n",
    "axs[0].legend(['Train','Val'])\n",
    "axs[1].plot(history.history['accuracy'])\n",
    "axs[1].plot(history.history['val_accuracy'])\n",
    "axs[1].title.set_text('Training Accuracy vs Validation Accuracy')\n",
    "axs[1].set_xlabel('Epochs')\n",
    "axs[1].set_ylabel('Accuracy')\n",
    "axs[1].legend(['Train', 'Val'])"
   ]
  },
  {
   "cell_type": "code",
   "execution_count": 7,
   "id": "b7942615-2380-413b-9137-41f86f616bc9",
   "metadata": {
    "tags": []
   },
   "outputs": [
    {
     "name": "stdout",
     "output_type": "stream",
     "text": [
      "313/313 [==============================] - 4s 11ms/step - loss: 1.5253 - accuracy: 0.4553\n"
     ]
    },
    {
     "data": {
      "text/plain": [
       "[1.5252759456634521, 0.4553000032901764]"
      ]
     },
     "execution_count": 7,
     "metadata": {},
     "output_type": "execute_result"
    }
   ],
   "source": [
    "head_model.evaluate(x_test, y_test)"
   ]
  },
  {
   "cell_type": "code",
   "execution_count": 8,
   "id": "1b950e3e-010b-4311-8b7a-e85266b30cc3",
   "metadata": {
    "tags": []
   },
   "outputs": [
    {
     "name": "stderr",
     "output_type": "stream",
     "text": [
      "2023-05-08 18:04:12.407116: W tensorflow/python/util/util.cc:368] Sets are not currently considered sequences, but this may change in the future, so consider avoiding using them.\n"
     ]
    },
    {
     "name": "stdout",
     "output_type": "stream",
     "text": [
      "INFO:tensorflow:Assets written to: model/resnet_cifar/assets\n"
     ]
    }
   ],
   "source": [
    "models.save_model(head_model, 'model/resnet_cifar')"
   ]
  }
 ],
 "metadata": {
  "kernelspec": {
   "display_name": "Python 3 (ipykernel)",
   "language": "python",
   "name": "python3"
  },
  "language_info": {
   "codemirror_mode": {
    "name": "ipython",
    "version": 3
   },
   "file_extension": ".py",
   "mimetype": "text/x-python",
   "name": "python",
   "nbconvert_exporter": "python",
   "pygments_lexer": "ipython3",
   "version": "3.10.5"
  },
  "toc-autonumbering": true,
  "toc-showcode": true,
  "toc-showmarkdowntxt": true,
  "toc-showtags": false
 },
 "nbformat": 4,
 "nbformat_minor": 5
}
