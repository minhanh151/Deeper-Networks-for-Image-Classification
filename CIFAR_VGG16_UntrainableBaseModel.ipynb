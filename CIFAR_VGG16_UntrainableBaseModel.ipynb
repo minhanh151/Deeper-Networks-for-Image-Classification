{
 "cells": [
  {
   "cell_type": "markdown",
   "id": "bc6a8598-4ddb-4124-9a1d-db5339f5c8c7",
   "metadata": {
    "tags": []
   },
   "source": [
    "Based on: https://www.kaggle.com/code/ukveteran/cifar10-transfer-learning-vgg16-jma/notebook"
   ]
  },
  {
   "cell_type": "code",
   "execution_count": 1,
   "id": "91868a20-d284-48d0-a50e-ffed2c3f6bfa",
   "metadata": {
    "tags": []
   },
   "outputs": [],
   "source": [
    "import os\n",
    "import matplotlib.pyplot as plt\n",
    "import numpy as np\n",
    "import torch\n",
    "import random\n",
    "import time\n",
    "from tqdm import tqdm # for progress bar\n",
    "import seaborn as sns\n",
    "from sklearn.metrics import confusion_matrix\n",
    "from sklearn.preprocessing import LabelBinarizer\n",
    "\n",
    "# Libraries for TensorFlow\n",
    "import tensorflow as tf\n",
    "import matplotlib.pyplot as plt\n",
    "from tensorflow.keras import datasets, layers, models, losses, Model\n",
    "from tensorflow.keras.optimizers import Adam\n",
    "from tensorflow.keras.optimizers import SGD\n",
    "from keras import callbacks\n",
    "# from livelossplot.inputs.keras import PlotLossesCallback\n",
    "from keras.datasets import mnist, cifar10\n",
    "from keras.utils import np_utils\n",
    "from keras.preprocessing.image import ImageDataGenerator\n",
    "from keras.callbacks import LearningRateScheduler\n",
    "\n",
    "# Library for Transfer Learning\n",
    "from tensorflow.keras.applications import VGG16\n",
    "from keras.applications.vgg16 import preprocess_input"
   ]
  },
  {
   "cell_type": "code",
   "execution_count": 2,
   "id": "1c95b525-b73e-4c35-b707-6e7cd949a91f",
   "metadata": {
    "tags": []
   },
   "outputs": [],
   "source": [
    "# Pandas and Numpy for data structures and util fucntions\n",
    "import scipy as sp\n",
    "import numpy as np\n",
    "import pandas as pd\n",
    "from numpy.random import rand\n",
    "pd.options.display.max_colwidth = 600\n",
    "\n",
    "# Scikit Imports\n",
    "from sklearn import preprocessing\n",
    "from sklearn.metrics import roc_curve, auc, precision_recall_curve\n",
    "from sklearn.model_selection import train_test_split\n",
    "\n",
    "\n",
    "# Matplot Imports\n",
    "import matplotlib.pyplot as plt\n",
    "params = {'legend.fontsize': 'x-large',\n",
    "          'figure.figsize': (15, 5),\n",
    "          'axes.labelsize': 'x-large',\n",
    "          'axes.titlesize':'x-large',\n",
    "          'xtick.labelsize':'x-large',\n",
    "          'ytick.labelsize':'x-large'}\n",
    "\n",
    "plt.rcParams.update(params)\n",
    "%matplotlib inline\n",
    "\n",
    "# pandas display data frames as tables\n",
    "from IPython.display import display, HTML\n",
    "\n",
    "import warnings\n",
    "warnings.filterwarnings('ignore')"
   ]
  },
  {
   "cell_type": "code",
   "execution_count": 3,
   "id": "8721451f-275b-4888-8404-6755f6f36cb7",
   "metadata": {
    "tags": []
   },
   "outputs": [],
   "source": [
    "import tensorflow as tf\n",
    "from keras import callbacks\n",
    "from keras import optimizers\n",
    "from keras.datasets import cifar10\n",
    "from keras.applications import vgg16 as vgg\n",
    "from keras.layers import Dropout, Flatten, Dense, GlobalAveragePooling2D,BatchNormalization\n",
    "from keras.preprocessing.image import ImageDataGenerator\n",
    "from keras.utils import np_utils"
   ]
  },
  {
   "cell_type": "code",
   "execution_count": 4,
   "id": "9b689fd5-29cd-4e02-bb41-49908c574f81",
   "metadata": {
    "tags": []
   },
   "outputs": [],
   "source": [
    "((trainX, trainY), (testX, testY)) = cifar10.load_data()\n",
    "trainX = trainX.astype(\"float\")\n",
    "testX = testX.astype(\"float\")\n",
    "                                # Step 1\n",
    "mean = np.mean(trainX, axis=0)\n",
    "trainX -= mean\n",
    "testX -= mean\n",
    "                                # Step 2\n",
    "lb = LabelBinarizer()\n",
    "trainY = lb.fit_transform(trainY)\n",
    "testY = lb.transform(testY)\n",
    "                                # Step 3\n",
    "aug = ImageDataGenerator(width_shift_range=0.1,height_shift_range=0.1, horizontal_flip=True,fill_mode=\"nearest\")"
   ]
  },
  {
   "cell_type": "code",
   "execution_count": 5,
   "id": "d3ea60e7-4b30-4a06-9bc8-8a5af7fea731",
   "metadata": {
    "tags": []
   },
   "outputs": [],
   "source": [
    "BATCH_SIZE = 128\n",
    "EPOCHS = 40\n",
    "NUM_CLASSES = 10\n",
    "LEARNING_RATE = 1e-4\n",
    "MOMENTUM = 0.9"
   ]
  },
  {
   "cell_type": "code",
   "execution_count": 6,
   "id": "bf2ffd87-4fc7-4d7d-bc10-6df288698626",
   "metadata": {
    "tags": []
   },
   "outputs": [],
   "source": [
    "(X_train, y_train), (X_test, y_test) = cifar10.load_data()\n",
    "X_train, X_val, y_train, y_val = train_test_split(X_train, \n",
    "                                                  y_train, \n",
    "                                                  test_size=0.15, \n",
    "                                                  stratify=np.array(y_train), \n",
    "                                                  random_state=42)\n",
    "Y_train = np_utils.to_categorical(y_train, NUM_CLASSES)\n",
    "Y_val = np_utils.to_categorical(y_val, NUM_CLASSES)\n",
    "Y_test = np_utils.to_categorical(y_test, NUM_CLASSES)\n"
   ]
  },
  {
   "cell_type": "code",
   "execution_count": 7,
   "id": "e64d1429-878e-416f-9940-50bdaaa816d5",
   "metadata": {
    "tags": []
   },
   "outputs": [
    {
     "name": "stderr",
     "output_type": "stream",
     "text": [
      "2023-05-09 15:22:19.039610: I tensorflow/core/platform/cpu_feature_guard.cc:151] This TensorFlow binary is optimized with oneAPI Deep Neural Network Library (oneDNN) to use the following CPU instructions in performance-critical operations:  AVX2 AVX512F FMA\n",
      "To enable them in other operations, rebuild TensorFlow with the appropriate compiler flags.\n",
      "2023-05-09 15:22:21.346836: I tensorflow/core/common_runtime/gpu/gpu_device.cc:1525] Created device /job:localhost/replica:0/task:0/device:GPU:0 with 2153 MB memory:  -> device: 0, name: NVIDIA A40, pci bus id: 0000:e3:00.0, compute capability: 8.6\n"
     ]
    }
   ],
   "source": [
    "base_model = vgg.VGG16(weights='imagenet', \n",
    "                       include_top=False, \n",
    "                       input_shape=(32, 32, 3))\n",
    "\n",
    "# Extract the last layer from third block of vgg16 model\n",
    "last = base_model.get_layer('block3_pool').output\n",
    "\n",
    "for layer in base_model.layers:\n",
    "     layer.trainable = False"
   ]
  },
  {
   "cell_type": "code",
   "execution_count": 8,
   "id": "a948a8ae-f3e7-405c-86a0-33aa63f6b73d",
   "metadata": {
    "tags": []
   },
   "outputs": [],
   "source": [
    "# # Add classification layers on top of it\n",
    "# x = GlobalAveragePooling2D()(last)\n",
    "# x= BatchNormalization()(x)\n",
    "# x = Dense(256, activation='relu')(x)\n",
    "# x = Dropout(0.6)(x)\n",
    "# pred = Dense(NUM_CLASSES, activation='softmax')(x)\n",
    "# model = Model(base_model.input, pred)"
   ]
  },
  {
   "cell_type": "code",
   "execution_count": 15,
   "id": "37c7513e-0566-42aa-890d-0f172294c3d8",
   "metadata": {},
   "outputs": [],
   "source": [
    "# Add classification layers on top of it\n",
    "x = GlobalAveragePooling2D()(last)\n",
    "x= BatchNormalization()(x)\n",
    "x = Dense(256, activation='relu')(x)\n",
    "x = Dense(256, activation='relu')(x)\n",
    "x = Dropout(0.4)(x)\n",
    "pred = Dense(NUM_CLASSES, activation='softmax')(x)\n",
    "model = Model(base_model.input, pred)"
   ]
  },
  {
   "cell_type": "code",
   "execution_count": 16,
   "id": "b3fc660f-b68e-448f-93c9-81cf4889ca45",
   "metadata": {
    "tags": []
   },
   "outputs": [
    {
     "name": "stdout",
     "output_type": "stream",
     "text": [
      "Model: \"model_1\"\n",
      "_________________________________________________________________\n",
      " Layer (type)                Output Shape              Param #   \n",
      "=================================================================\n",
      " input_1 (InputLayer)        [(None, 32, 32, 3)]       0         \n",
      "                                                                 \n",
      " block1_conv1 (Conv2D)       (None, 32, 32, 64)        1792      \n",
      "                                                                 \n",
      " block1_conv2 (Conv2D)       (None, 32, 32, 64)        36928     \n",
      "                                                                 \n",
      " block1_pool (MaxPooling2D)  (None, 16, 16, 64)        0         \n",
      "                                                                 \n",
      " block2_conv1 (Conv2D)       (None, 16, 16, 128)       73856     \n",
      "                                                                 \n",
      " block2_conv2 (Conv2D)       (None, 16, 16, 128)       147584    \n",
      "                                                                 \n",
      " block2_pool (MaxPooling2D)  (None, 8, 8, 128)         0         \n",
      "                                                                 \n",
      " block3_conv1 (Conv2D)       (None, 8, 8, 256)         295168    \n",
      "                                                                 \n",
      " block3_conv2 (Conv2D)       (None, 8, 8, 256)         590080    \n",
      "                                                                 \n",
      " block3_conv3 (Conv2D)       (None, 8, 8, 256)         590080    \n",
      "                                                                 \n",
      " block3_pool (MaxPooling2D)  (None, 4, 4, 256)         0         \n",
      "                                                                 \n",
      " global_average_pooling2d_1   (None, 256)              0         \n",
      " (GlobalAveragePooling2D)                                        \n",
      "                                                                 \n",
      " batch_normalization_1 (Batc  (None, 256)              1024      \n",
      " hNormalization)                                                 \n",
      "                                                                 \n",
      " dense_3 (Dense)             (None, 256)               65792     \n",
      "                                                                 \n",
      " dense_4 (Dense)             (None, 256)               65792     \n",
      "                                                                 \n",
      " dropout_1 (Dropout)         (None, 256)               0         \n",
      "                                                                 \n",
      " dense_5 (Dense)             (None, 10)                2570      \n",
      "                                                                 \n",
      "=================================================================\n",
      "Total params: 1,870,666\n",
      "Trainable params: 134,666\n",
      "Non-trainable params: 1,736,000\n",
      "_________________________________________________________________\n"
     ]
    }
   ],
   "source": [
    "model.compile(loss='binary_crossentropy',\n",
    "              optimizer=Adam(lr=LEARNING_RATE),\n",
    "              metrics=['accuracy'])\n",
    "\n",
    "model.summary()"
   ]
  },
  {
   "cell_type": "code",
   "execution_count": 11,
   "id": "a04d2ad3-64fc-4391-ab2e-b206b4641eda",
   "metadata": {
    "tags": []
   },
   "outputs": [],
   "source": [
    "# prepare data augmentation configuration\n",
    "train_datagen = ImageDataGenerator(\n",
    "    rescale=1. / 255,\n",
    "    horizontal_flip=False)\n",
    "\n",
    "train_datagen.fit(X_train)\n",
    "train_generator = train_datagen.flow(X_train,\n",
    "                                     Y_train, \n",
    "                                     batch_size=BATCH_SIZE)\n",
    "\n",
    "val_datagen = ImageDataGenerator(rescale=1. / 255,\n",
    "    horizontal_flip=False)\n",
    "\n",
    "val_datagen.fit(X_val)\n",
    "val_generator = val_datagen.flow(X_val,\n",
    "                                 Y_val,\n",
    "                                 batch_size=BATCH_SIZE)\n"
   ]
  },
  {
   "cell_type": "code",
   "execution_count": 17,
   "id": "a36a6bec-1689-411f-a26b-f343fd9b747b",
   "metadata": {
    "tags": []
   },
   "outputs": [
    {
     "name": "stdout",
     "output_type": "stream",
     "text": [
      "Training started at %s Tue May  9 15:24:20 2023\n",
      "Epoch 1/40\n",
      "782/782 [==============================] - 27s 34ms/step - loss: 0.2783 - accuracy: 0.3939 - val_loss: 0.1976 - val_accuracy: 0.5743\n",
      "Epoch 2/40\n",
      "782/782 [==============================] - 27s 34ms/step - loss: 0.2058 - accuracy: 0.5594 - val_loss: 0.1749 - val_accuracy: 0.6223\n",
      "Epoch 3/40\n",
      "782/782 [==============================] - 26s 33ms/step - loss: 0.1859 - accuracy: 0.6107 - val_loss: 0.1629 - val_accuracy: 0.6503\n",
      "Epoch 4/40\n",
      "782/782 [==============================] - 27s 35ms/step - loss: 0.1743 - accuracy: 0.6362 - val_loss: 0.1557 - val_accuracy: 0.6643\n",
      "Epoch 5/40\n",
      "782/782 [==============================] - 27s 35ms/step - loss: 0.1661 - accuracy: 0.6522 - val_loss: 0.1492 - val_accuracy: 0.6787\n",
      "Epoch 6/40\n",
      "782/782 [==============================] - 27s 34ms/step - loss: 0.1602 - accuracy: 0.6669 - val_loss: 0.1462 - val_accuracy: 0.6841\n",
      "Epoch 7/40\n",
      "782/782 [==============================] - 26s 34ms/step - loss: 0.1556 - accuracy: 0.6750 - val_loss: 0.1423 - val_accuracy: 0.6950\n",
      "Epoch 8/40\n",
      "782/782 [==============================] - 26s 33ms/step - loss: 0.1514 - accuracy: 0.6856 - val_loss: 0.1388 - val_accuracy: 0.7035\n",
      "Epoch 9/40\n",
      "782/782 [==============================] - 26s 34ms/step - loss: 0.1490 - accuracy: 0.6909 - val_loss: 0.1379 - val_accuracy: 0.7053\n",
      "Epoch 10/40\n",
      "782/782 [==============================] - 28s 35ms/step - loss: 0.1464 - accuracy: 0.6952 - val_loss: 0.1363 - val_accuracy: 0.7088\n",
      "Epoch 11/40\n",
      "782/782 [==============================] - 26s 34ms/step - loss: 0.1434 - accuracy: 0.7029 - val_loss: 0.1332 - val_accuracy: 0.7161\n",
      "Epoch 12/40\n",
      "782/782 [==============================] - 27s 34ms/step - loss: 0.1419 - accuracy: 0.7056 - val_loss: 0.1324 - val_accuracy: 0.7173\n",
      "Epoch 13/40\n",
      "782/782 [==============================] - 27s 34ms/step - loss: 0.1390 - accuracy: 0.7100 - val_loss: 0.1315 - val_accuracy: 0.7198\n",
      "Epoch 14/40\n",
      "782/782 [==============================] - 26s 33ms/step - loss: 0.1383 - accuracy: 0.7120 - val_loss: 0.1298 - val_accuracy: 0.7245\n",
      "Epoch 15/40\n",
      "782/782 [==============================] - 26s 34ms/step - loss: 0.1360 - accuracy: 0.7186 - val_loss: 0.1287 - val_accuracy: 0.7281\n",
      "Epoch 16/40\n",
      "782/782 [==============================] - 26s 34ms/step - loss: 0.1360 - accuracy: 0.7182 - val_loss: 0.1293 - val_accuracy: 0.7275\n",
      "Epoch 17/40\n",
      "782/782 [==============================] - 26s 34ms/step - loss: 0.1332 - accuracy: 0.7250 - val_loss: 0.1269 - val_accuracy: 0.7299\n",
      "Epoch 18/40\n",
      "782/782 [==============================] - 26s 33ms/step - loss: 0.1330 - accuracy: 0.7231 - val_loss: 0.1263 - val_accuracy: 0.7333\n",
      "Epoch 19/40\n",
      "782/782 [==============================] - 27s 34ms/step - loss: 0.1315 - accuracy: 0.7286 - val_loss: 0.1259 - val_accuracy: 0.7352\n",
      "Epoch 20/40\n",
      "782/782 [==============================] - 26s 33ms/step - loss: 0.1303 - accuracy: 0.7299 - val_loss: 0.1247 - val_accuracy: 0.7398\n",
      "Epoch 21/40\n",
      "782/782 [==============================] - 27s 34ms/step - loss: 0.1294 - accuracy: 0.7316 - val_loss: 0.1245 - val_accuracy: 0.7374\n",
      "Epoch 22/40\n",
      "782/782 [==============================] - 26s 33ms/step - loss: 0.1285 - accuracy: 0.7338 - val_loss: 0.1235 - val_accuracy: 0.7395\n",
      "Epoch 23/40\n",
      "782/782 [==============================] - 27s 34ms/step - loss: 0.1275 - accuracy: 0.7348 - val_loss: 0.1233 - val_accuracy: 0.7394\n",
      "Epoch 24/40\n",
      "782/782 [==============================] - 26s 34ms/step - loss: 0.1266 - accuracy: 0.7392 - val_loss: 0.1221 - val_accuracy: 0.7422\n",
      "Epoch 25/40\n",
      "782/782 [==============================] - 26s 34ms/step - loss: 0.1258 - accuracy: 0.7425 - val_loss: 0.1209 - val_accuracy: 0.7483\n",
      "Epoch 26/40\n",
      "782/782 [==============================] - 27s 34ms/step - loss: 0.1249 - accuracy: 0.7415 - val_loss: 0.1215 - val_accuracy: 0.7443\n",
      "Epoch 27/40\n",
      "782/782 [==============================] - 27s 35ms/step - loss: 0.1245 - accuracy: 0.7436 - val_loss: 0.1210 - val_accuracy: 0.7441\n",
      "Epoch 28/40\n",
      "782/782 [==============================] - 27s 34ms/step - loss: 0.1232 - accuracy: 0.7460 - val_loss: 0.1215 - val_accuracy: 0.7441\n",
      "Epoch 29/40\n",
      "782/782 [==============================] - 27s 35ms/step - loss: 0.1222 - accuracy: 0.7499 - val_loss: 0.1210 - val_accuracy: 0.7466\n",
      "Epoch 30/40\n",
      "782/782 [==============================] - 27s 34ms/step - loss: 0.1224 - accuracy: 0.7481 - val_loss: 0.1217 - val_accuracy: 0.7470\n",
      "Epoch 31/40\n",
      "782/782 [==============================] - 27s 34ms/step - loss: 0.1210 - accuracy: 0.7497 - val_loss: 0.1185 - val_accuracy: 0.7528\n",
      "Epoch 32/40\n",
      "782/782 [==============================] - 27s 35ms/step - loss: 0.1210 - accuracy: 0.7525 - val_loss: 0.1193 - val_accuracy: 0.7507\n",
      "Epoch 33/40\n",
      "782/782 [==============================] - 26s 34ms/step - loss: 0.1198 - accuracy: 0.7527 - val_loss: 0.1181 - val_accuracy: 0.7542\n",
      "Epoch 34/40\n",
      "782/782 [==============================] - 26s 34ms/step - loss: 0.1190 - accuracy: 0.7543 - val_loss: 0.1188 - val_accuracy: 0.7531\n",
      "Epoch 35/40\n",
      "782/782 [==============================] - 26s 33ms/step - loss: 0.1192 - accuracy: 0.7551 - val_loss: 0.1200 - val_accuracy: 0.7503\n",
      "Epoch 36/40\n",
      "782/782 [==============================] - 26s 33ms/step - loss: 0.1184 - accuracy: 0.7561 - val_loss: 0.1173 - val_accuracy: 0.7553\n",
      "Epoch 37/40\n",
      "782/782 [==============================] - 27s 34ms/step - loss: 0.1176 - accuracy: 0.7606 - val_loss: 0.1173 - val_accuracy: 0.7543\n",
      "Epoch 38/40\n",
      "782/782 [==============================] - 28s 35ms/step - loss: 0.1170 - accuracy: 0.7604 - val_loss: 0.1176 - val_accuracy: 0.7546\n",
      "Epoch 39/40\n",
      "782/782 [==============================] - 27s 35ms/step - loss: 0.1164 - accuracy: 0.7614 - val_loss: 0.1183 - val_accuracy: 0.7509\n",
      "Epoch 40/40\n",
      "782/782 [==============================] - 27s 34ms/step - loss: 0.1163 - accuracy: 0.7624 - val_loss: 0.1179 - val_accuracy: 0.7533\n",
      "Training ended at %s Tue May  9 15:42:09 2023\n",
      "Training duration: %i seconds 1068\n"
     ]
    }
   ],
   "source": [
    "train_steps_per_epoch = X_train.shape[0] // BATCH_SIZE\n",
    "val_steps_per_epoch = X_val.shape[0] // BATCH_SIZE\n",
    "\n",
    "# Record start time\n",
    "start_time = time.time()\n",
    "print('Training started at %s', time.ctime(start_time))\n",
    "\n",
    "# Train model\n",
    "# history = model.fit_generator(train_generator,\n",
    "#                               steps_per_epoch=train_steps_per_epoch,\n",
    "#                               validation_data=val_generator,\n",
    "#                               validation_steps=val_steps_per_epoch,\n",
    "#                               epochs=EPOCHS,\n",
    "#                               verbose=1)\n",
    "\n",
    "history = model.fit(aug.flow(trainX, trainY, batch_size=64),validation_data=(testX, testY),epochs=40, verbose=1)\n",
    "\n",
    "\n",
    "# Record end time\n",
    "end_time = time.time()\n",
    "print('Training ended at %s', time.ctime(end_time))\n",
    "\n",
    "# Calculate duration of training\n",
    "duration = end_time - start_time\n",
    "print('Training duration: %i seconds', int(duration))\n"
   ]
  },
  {
   "cell_type": "code",
   "execution_count": 18,
   "id": "4dd425a3-d673-4c20-b9ba-ca9462b50c85",
   "metadata": {
    "tags": []
   },
   "outputs": [
    {
     "data": {
      "image/png": "[encoded data removed]",
      "text/plain": [
       "<Figure size 1080x360 with 2 Axes>"
      ]
     },
     "metadata": {
      "needs_background": "light"
     },
     "output_type": "display_data"
    }
   ],
   "source": [
    "f, (ax1, ax2) = plt.subplots(1, 2, figsize=(15, 5))\n",
    "t = f.suptitle('Deep Neural Net Performance', fontsize=12)\n",
    "f.subplots_adjust(top=0.85, wspace=0.3)\n",
    "\n",
    "epochs = list(range(1,EPOCHS+1))\n",
    "ax1.plot(epochs, history.history['accuracy'], label='Train Accuracy')\n",
    "ax1.plot(epochs, history.history['val_accuracy'], label='Validation Accuracy')\n",
    "ax1.set_xticks(epochs)\n",
    "ax1.set_ylabel('Accuracy Value')\n",
    "ax1.set_xlabel('Epoch')\n",
    "ax1.set_title('Accuracy')\n",
    "l1 = ax1.legend(loc=\"best\")\n",
    "\n",
    "ax2.plot(epochs, history.history['loss'], label='Train Loss')\n",
    "ax2.plot(epochs, history.history['val_loss'], label='Validation Loss')\n",
    "ax2.set_xticks(epochs)\n",
    "ax2.set_ylabel('Loss Value')\n",
    "ax2.set_xlabel('Epoch')\n",
    "ax2.set_title('Loss')\n",
    "l2 = ax2.legend(loc=\"best\")"
   ]
  },
  {
   "cell_type": "code",
   "execution_count": null,
   "id": "4798a567-cbbe-4f93-b155-2d22b9b1cb22",
   "metadata": {},
   "outputs": [],
   "source": [
    "model.evaluate(X_test, y_test)"
   ]
  }
 ],
 "metadata": {
  "kernelspec": {
   "display_name": "Python 3 (ipykernel)",
   "language": "python",
   "name": "python3"
  },
  "language_info": {
   "codemirror_mode": {
    "name": "ipython",
    "version": 3
   },
   "file_extension": ".py",
   "mimetype": "text/x-python",
   "name": "python",
   "nbconvert_exporter": "python",
   "pygments_lexer": "ipython3",
   "version": "3.10.5"
  }
 },
 "nbformat": 4,
 "nbformat_minor": 5
}
